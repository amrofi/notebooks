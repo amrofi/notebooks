{
 "cells": [
  {
   "cell_type": "markdown",
   "metadata": {},
   "source": [
    "-------------------"
   ]
  },
  {
   "cell_type": "markdown",
   "metadata": {
    "extensions": {
     "jupyter_dashboards": {
      "version": 1,
      "views": {
       "grid_default": {
        "col": 0,
        "height": 4,
        "hidden": false,
        "row": 0,
        "width": 12
       },
       "report_default": {}
      }
     }
    }
   },
   "source": [
    "## Basic Tutorial for `pysal.spaghetti`"
   ]
  },
  {
   "cell_type": "code",
   "execution_count": null,
   "metadata": {
    "ExecuteTime": {
     "end_time": "2018-12-22T20:37:17.681014Z",
     "start_time": "2018-12-22T20:37:17.655608Z"
    }
   },
   "outputs": [],
   "source": [
    "import os\n",
    "last_modified = None\n",
    "if os.name == \"posix\":\n",
    "    last_modified = !stat -f\\\n",
    "                    \"# This notebook was last updated: %Sm\"\\\n",
    "                     Network_Usage.ipynb\n",
    "elif os.name == \"nt\":\n",
    "    last_modified = !for %a in (Network_Usage.ipynb)\\\n",
    "                    do echo # This notebook was last updated: %~ta\n",
    "    \n",
    "if last_modified:\n",
    "    get_ipython().set_next_input(last_modified[-1])"
   ]
  },
  {
   "cell_type": "code",
   "execution_count": null,
   "metadata": {},
   "outputs": [],
   "source": [
    "# This notebook was last updated: Dec 22 15:37:12 2018"
   ]
  },
  {
   "cell_type": "markdown",
   "metadata": {},
   "source": [
    "--------------------------"
   ]
  },
  {
   "cell_type": "code",
   "execution_count": null,
   "metadata": {
    "ExecuteTime": {
     "end_time": "2018-12-22T20:37:19.015608Z",
     "start_time": "2018-12-22T20:37:17.699346Z"
    },
    "extensions": {
     "jupyter_dashboards": {
      "version": 1,
      "views": {
       "grid_default": {
        "hidden": true
       },
       "report_default": {}
      }
     }
    }
   },
   "outputs": [],
   "source": [
    "# pysal submodule imports\n",
    "from libpysal import examples\n",
    "import spaghetti as spgh\n",
    "import esda\n",
    "\n",
    "import numpy as np\n",
    "import matplotlib.pyplot as plt\n",
    "\n",
    "import time\n",
    "\n",
    "%matplotlib inline\n",
    "\n",
    "__author__ = \"James Gaboardi <jgaboardi@gmail.com>\""
   ]
  },
  {
   "cell_type": "markdown",
   "metadata": {
    "extensions": {
     "jupyter_dashboards": {
      "version": 1,
      "views": {
       "grid_default": {
        "col": 4,
        "height": 4,
        "hidden": false,
        "row": 4,
        "width": 4
       },
       "report_default": {}
      }
     }
    }
   },
   "source": [
    "### Instantiate a network"
   ]
  },
  {
   "cell_type": "code",
   "execution_count": null,
   "metadata": {
    "ExecuteTime": {
     "end_time": "2018-12-22T20:37:19.160627Z",
     "start_time": "2018-12-22T20:37:19.019324Z"
    },
    "extensions": {
     "jupyter_dashboards": {
      "version": 1,
      "views": {
       "grid_default": {
        "hidden": true
       },
       "report_default": {}
      }
     }
    }
   },
   "outputs": [],
   "source": [
    "ntw = spgh.Network(in_data=examples.get_path('streets.shp'))"
   ]
  },
  {
   "cell_type": "markdown",
   "metadata": {
    "extensions": {
     "jupyter_dashboards": {
      "version": 1,
      "views": {
       "grid_default": {
        "col": 8,
        "height": 4,
        "hidden": false,
        "row": 4,
        "width": 4
       },
       "report_default": {}
      }
     }
    }
   },
   "source": [
    "### Snap point patterns to the network"
   ]
  },
  {
   "cell_type": "code",
   "execution_count": null,
   "metadata": {
    "ExecuteTime": {
     "end_time": "2018-12-22T20:37:19.503613Z",
     "start_time": "2018-12-22T20:37:19.162400Z"
    },
    "extensions": {
     "jupyter_dashboards": {
      "version": 1,
      "views": {
       "grid_default": {
        "hidden": true
       },
       "report_default": {}
      }
     }
    }
   },
   "outputs": [],
   "source": [
    "# Crimes\n",
    "ntw.snapobservations(examples.get_path('crimes.shp'),\n",
    "                     'crimes',\n",
    "                     attribute=True)\n",
    "# Schools\n",
    "ntw.snapobservations(examples.get_path('schools.shp'),\n",
    "                     'schools',\n",
    "                     attribute=False)"
   ]
  },
  {
   "cell_type": "markdown",
   "metadata": {
    "extensions": {
     "jupyter_dashboards": {
      "version": 1,
      "views": {
       "grid_default": {
        "col": 0,
        "height": 4,
        "hidden": false,
        "row": 8,
        "width": null
       },
       "report_default": {}
      }
     }
    }
   },
   "source": [
    "### A network is composed of a single topological representation of roads and $n$ point patterns which are snapped to the network."
   ]
  },
  {
   "cell_type": "code",
   "execution_count": null,
   "metadata": {
    "ExecuteTime": {
     "end_time": "2018-12-22T20:37:19.513923Z",
     "start_time": "2018-12-22T20:37:19.506450Z"
    },
    "extensions": {
     "jupyter_dashboards": {
      "version": 1,
      "views": {
       "grid_default": {
        "hidden": true
       },
       "report_default": {}
      }
     }
    }
   },
   "outputs": [],
   "source": [
    "ntw.pointpatterns"
   ]
  },
  {
   "cell_type": "markdown",
   "metadata": {
    "extensions": {
     "jupyter_dashboards": {
      "version": 1,
      "views": {
       "grid_default": {
        "col": 0,
        "height": 4,
        "hidden": false,
        "row": 12,
        "width": 4
       },
       "report_default": {}
      }
     }
    }
   },
   "source": [
    "### Attributes for every point pattern"
   ]
  },
  {
   "cell_type": "markdown",
   "metadata": {
    "extensions": {
     "jupyter_dashboards": {
      "version": 1,
      "views": {
       "grid_default": {
        "col": 0,
        "height": 8,
        "hidden": false,
        "row": 16,
        "width": 12
       },
       "report_default": {}
      }
     }
    }
   },
   "source": [
    "1. `dist_snapped` dict keyed by pointid with the value as snapped distance from observation to network arc\n",
    "2. `dist_to_vertex` dict keyed by pointid with the value being a dict in the form \n",
    "        {node: distance to vertex, node: distance to vertex}\n",
    "3. `npoints` point observations in set\n",
    "4. `obs_to_arc` dict keyed by arc with the value being a dict in the form \n",
    "        {pointID:(x-coord, y-coord), pointID:(x-coord, y-coord), ... }\n",
    "5. `obs_to_vertex` list of incident network vertices to snapped observation points\n",
    "6. `points` geojson like representation of the point pattern.  Includes properties if read with attributes=True\n",
    "7. `snapped_coordinates` dict keyed by pointid with the value being (x-coord, y-coord)"
   ]
  },
  {
   "cell_type": "markdown",
   "metadata": {
    "extensions": {
     "jupyter_dashboards": {
      "version": 1,
      "views": {
       "grid_default": {
        "col": 0,
        "height": 4,
        "hidden": false,
        "row": 24,
        "width": 12
       },
       "report_default": {}
      }
     }
    }
   },
   "source": [
    "### Counts per link (arc or edge) are important, but should not be precomputed since we have different representations of the network (spatial and graph currently).  (Relatively) Uniform segmentation still needs to be done."
   ]
  },
  {
   "cell_type": "code",
   "execution_count": null,
   "metadata": {
    "ExecuteTime": {
     "end_time": "2018-12-22T20:37:19.523862Z",
     "start_time": "2018-12-22T20:37:19.519371Z"
    },
    "extensions": {
     "jupyter_dashboards": {
      "version": 1,
      "views": {
       "grid_default": {
        "hidden": true
       },
       "report_default": {}
      }
     }
    }
   },
   "outputs": [],
   "source": [
    "counts = ntw.count_per_link(ntw.pointpatterns['crimes'].obs_to_arc,\n",
    "                            graph=False)"
   ]
  },
  {
   "cell_type": "code",
   "execution_count": null,
   "metadata": {
    "ExecuteTime": {
     "end_time": "2018-12-22T20:37:19.539215Z",
     "start_time": "2018-12-22T20:37:19.528482Z"
    },
    "extensions": {
     "jupyter_dashboards": {
      "version": 1,
      "views": {
       "grid_default": {
        "hidden": true
       },
       "report_default": {}
      }
     }
    }
   },
   "outputs": [],
   "source": [
    "sum(list(counts.values())) / float(len(counts.keys()))"
   ]
  },
  {
   "cell_type": "markdown",
   "metadata": {
    "extensions": {
     "jupyter_dashboards": {
      "version": 1,
      "views": {
       "grid_default": {
        "col": 4,
        "height": 4,
        "hidden": false,
        "row": 12,
        "width": 4
       },
       "report_default": {}
      }
     }
    }
   },
   "source": [
    "### Network segmentation"
   ]
  },
  {
   "cell_type": "code",
   "execution_count": null,
   "metadata": {
    "ExecuteTime": {
     "end_time": "2018-12-22T20:37:20.042865Z",
     "start_time": "2018-12-22T20:37:19.541796Z"
    },
    "extensions": {
     "jupyter_dashboards": {
      "version": 1,
      "views": {
       "grid_default": {
        "hidden": true
       },
       "report_default": {}
      }
     }
    }
   },
   "outputs": [],
   "source": [
    "n200 = ntw.split_arcs(200.0)"
   ]
  },
  {
   "cell_type": "code",
   "execution_count": null,
   "metadata": {
    "ExecuteTime": {
     "end_time": "2018-12-22T20:37:20.049048Z",
     "start_time": "2018-12-22T20:37:20.044642Z"
    },
    "extensions": {
     "jupyter_dashboards": {
      "version": 1,
      "views": {
       "grid_default": {
        "hidden": true
       },
       "report_default": {}
      }
     }
    }
   },
   "outputs": [],
   "source": [
    "counts = n200.count_per_link(n200.pointpatterns['crimes'].obs_to_arc,\n",
    "                             graph=False)\n",
    "sum(counts.values()) / float(len(counts.keys()))"
   ]
  },
  {
   "cell_type": "markdown",
   "metadata": {},
   "source": [
    "### Create `geopandas.GeoDataFrame` objects of the vertices and arcs"
   ]
  },
  {
   "cell_type": "code",
   "execution_count": null,
   "metadata": {
    "ExecuteTime": {
     "end_time": "2018-12-22T20:37:20.901592Z",
     "start_time": "2018-12-22T20:37:20.051895Z"
    }
   },
   "outputs": [],
   "source": [
    "# 'full' unsegmented network\n",
    "vertices_df, arcs_df = spgh.element_as_gdf(ntw,\n",
    "                                           vertices=ntw.vertex_coords,\n",
    "                                           arcs=ntw.arcs)\n",
    "\n",
    "# network segmented at 200-meter increments\n",
    "vertices200_df, arcs200_df = spgh.element_as_gdf(n200,\n",
    "                                                 vertices=n200.vertex_coords,\n",
    "                                                 arcs=n200.arcs)"
   ]
  },
  {
   "cell_type": "markdown",
   "metadata": {
    "extensions": {
     "jupyter_dashboards": {
      "version": 1,
      "views": {
       "grid_default": {
        "col": 0,
        "height": 4,
        "hidden": false,
        "row": 28,
        "width": 12
       },
       "report_default": {}
      }
     }
    }
   },
   "source": [
    "### Visualization of the shapefile derived, unsegmented network with vertices in a larger, blue, semi-opaque form and the distance segmented network with small, red, fully opaque vertices."
   ]
  },
  {
   "cell_type": "code",
   "execution_count": null,
   "metadata": {
    "ExecuteTime": {
     "end_time": "2018-12-22T20:37:21.502575Z",
     "start_time": "2018-12-22T20:37:20.903353Z"
    }
   },
   "outputs": [],
   "source": [
    "base = arcs_df.plot(color='k', alpha=.25, figsize=(12,12))\n",
    "vertices_df.plot(ax=base, color='b', markersize=300, alpha=.25)\n",
    "arcs200_df.plot(ax=base, color='k', alpha=.25)\n",
    "vertices200_df.plot(ax=base, color='r', markersize=25, alpha=1.)"
   ]
  },
  {
   "cell_type": "markdown",
   "metadata": {
    "extensions": {
     "jupyter_dashboards": {
      "version": 1,
      "views": {
       "grid_default": {
        "col": 8,
        "height": 4,
        "hidden": false,
        "row": 12,
        "width": 4
       },
       "report_default": {}
      }
     }
    }
   },
   "source": [
    "### Moran's I using the digitized network"
   ]
  },
  {
   "cell_type": "code",
   "execution_count": null,
   "metadata": {
    "ExecuteTime": {
     "end_time": "2018-12-22T20:37:21.557058Z",
     "start_time": "2018-12-22T20:37:21.504376Z"
    },
    "extensions": {
     "jupyter_dashboards": {
      "version": 1,
      "views": {
       "grid_default": {
        "hidden": true
       },
       "report_default": {}
      }
     }
    }
   },
   "outputs": [],
   "source": [
    "# Binary Adjacency\n",
    "w = ntw.contiguityweights(graph=False)\n",
    "\n",
    "# Build the y vector\n",
    "arcs = w.neighbors.keys()\n",
    "y = np.zeros(len(arcs))\n",
    "\n",
    "for i, a in enumerate(arcs):\n",
    "    if a in counts.keys():\n",
    "        y[i] = counts[a]\n",
    "\n",
    "# Moran's I\n",
    "res = esda.moran.Moran(y,\n",
    "                       w,\n",
    "                       permutations=99)\n",
    "print(dir(res))"
   ]
  },
  {
   "cell_type": "markdown",
   "metadata": {
    "extensions": {
     "jupyter_dashboards": {
      "version": 1,
      "views": {
       "grid_default": {
        "col": 0,
        "height": 4,
        "hidden": false,
        "row": 32,
        "width": 12
       },
       "report_default": {}
      }
     }
    }
   },
   "source": [
    "### Moran's I using the graph representation to generate the W\n",
    "\n",
    "* Note that we have to regenerate the counts per arc, since the graph will have less edges."
   ]
  },
  {
   "cell_type": "code",
   "execution_count": null,
   "metadata": {
    "ExecuteTime": {
     "end_time": "2018-12-22T20:37:21.586268Z",
     "start_time": "2018-12-22T20:37:21.559118Z"
    },
    "extensions": {
     "jupyter_dashboards": {
      "version": 1,
      "views": {
       "grid_default": {
        "hidden": true
       },
       "report_default": {}
      }
     }
    }
   },
   "outputs": [],
   "source": [
    "counts = ntw.count_per_link(ntw.pointpatterns['crimes'].obs_to_arc,\n",
    "                            graph=True)\n",
    "\n",
    "# Binary Adjacency\n",
    "w = ntw.contiguityweights(graph=True)\n",
    "\n",
    "# Build the y vector\n",
    "edges = w.neighbors.keys()\n",
    "y = np.zeros(len(edges))\n",
    "\n",
    "for i, e in enumerate(edges):\n",
    "    if e in counts.keys():\n",
    "        y[i] = counts[e]\n",
    "\n",
    "# Moran's I\n",
    "res = esda.moran.Moran(y,\n",
    "                       w,\n",
    "                       permutations=99)\n",
    "\n",
    "print(dir(res))"
   ]
  },
  {
   "cell_type": "markdown",
   "metadata": {
    "extensions": {
     "jupyter_dashboards": {
      "version": 1,
      "views": {
       "grid_default": {
        "col": 0,
        "height": 4,
        "hidden": false,
        "row": 36,
        "width": 4
       },
       "report_default": {}
      }
     }
    }
   },
   "source": [
    "### Moran's I using the segmented network and intensities instead of counts"
   ]
  },
  {
   "cell_type": "code",
   "execution_count": null,
   "metadata": {
    "ExecuteTime": {
     "end_time": "2018-12-22T20:37:21.781043Z",
     "start_time": "2018-12-22T20:37:21.588630Z"
    },
    "extensions": {
     "jupyter_dashboards": {
      "version": 1,
      "views": {
       "grid_default": {
        "hidden": true
       },
       "report_default": {}
      }
     }
    }
   },
   "outputs": [],
   "source": [
    "# Binary Adjacency\n",
    "w = n200.contiguityweights(graph=False)\n",
    "\n",
    "# Compute the counts\n",
    "counts = n200.count_per_link(n200.pointpatterns['crimes'].obs_to_arc,\n",
    "                             graph=False)\n",
    "\n",
    "# Build the y vector and convert from raw counts to intensities\n",
    "arcs = w.neighbors.keys()\n",
    "y = np.zeros(len(arcs))\n",
    "\n",
    "for i, a in enumerate(edges):\n",
    "    if a in counts.keys():\n",
    "        length = n200.arc_lengths[a]\n",
    "        y[i] = counts[a] / length\n",
    "\n",
    "# Moran's I\n",
    "res = esda.moran.Moran(y,\n",
    "                       w,\n",
    "                       permutations=99)\n",
    "\n",
    "print(dir(res))"
   ]
  },
  {
   "cell_type": "markdown",
   "metadata": {
    "extensions": {
     "jupyter_dashboards": {
      "version": 1,
      "views": {
       "grid_default": {
        "col": 4,
        "height": 4,
        "hidden": false,
        "row": 36,
        "width": 4
       },
       "report_default": {}
      }
     }
    }
   },
   "source": [
    "### Timings for distance based methods, e.g. G-function"
   ]
  },
  {
   "cell_type": "code",
   "execution_count": null,
   "metadata": {
    "ExecuteTime": {
     "end_time": "2018-12-22T20:37:22.259497Z",
     "start_time": "2018-12-22T20:37:21.783181Z"
    },
    "extensions": {
     "jupyter_dashboards": {
      "version": 1,
      "views": {
       "grid_default": {
        "hidden": true
       },
       "report_default": {}
      }
     }
    }
   },
   "outputs": [],
   "source": [
    "t1 = time.time()\n",
    "n0 = ntw.allneighbordistances(ntw.pointpatterns['crimes'])\n",
    "print(time.time()-t1)"
   ]
  },
  {
   "cell_type": "code",
   "execution_count": null,
   "metadata": {
    "ExecuteTime": {
     "end_time": "2018-12-22T20:37:24.588687Z",
     "start_time": "2018-12-22T20:37:22.261364Z"
    },
    "extensions": {
     "jupyter_dashboards": {
      "version": 1,
      "views": {
       "grid_default": {
        "hidden": true
       },
       "report_default": {}
      }
     }
    }
   },
   "outputs": [],
   "source": [
    "t1 = time.time()\n",
    "n1 = n200.allneighbordistances(n200.pointpatterns['crimes'])\n",
    "print(time.time()-t1)"
   ]
  },
  {
   "cell_type": "markdown",
   "metadata": {
    "extensions": {
     "jupyter_dashboards": {
      "version": 1,
      "views": {
       "grid_default": {
        "col": 8,
        "height": 4,
        "hidden": false,
        "row": 36,
        "width": 4
       },
       "report_default": {}
      }
     }
    }
   },
   "source": [
    "* Note that the first time these methods are called, the underlying vertex-to-vertex shortest path distance matrix has to be calculated. Subsequent calls will not require this, and will be much faster:"
   ]
  },
  {
   "cell_type": "code",
   "execution_count": null,
   "metadata": {
    "ExecuteTime": {
     "end_time": "2018-12-22T20:37:24.851032Z",
     "start_time": "2018-12-22T20:37:24.591816Z"
    },
    "extensions": {
     "jupyter_dashboards": {
      "version": 1,
      "views": {
       "grid_default": {
        "hidden": true
       },
       "report_default": {}
      }
     }
    }
   },
   "outputs": [],
   "source": [
    "t1 = time.time()\n",
    "n0 = ntw.allneighbordistances(ntw.pointpatterns['crimes'])\n",
    "print(time.time()-t1)"
   ]
  },
  {
   "cell_type": "code",
   "execution_count": null,
   "metadata": {
    "ExecuteTime": {
     "end_time": "2018-12-22T20:37:25.249547Z",
     "start_time": "2018-12-22T20:37:24.855279Z"
    },
    "extensions": {
     "jupyter_dashboards": {
      "version": 1,
      "views": {
       "grid_default": {
        "hidden": true
       },
       "report_default": {}
      }
     }
    }
   },
   "outputs": [],
   "source": [
    "t1 = time.time()\n",
    "n1 = n200.allneighbordistances(n200.pointpatterns['crimes'])\n",
    "print(time.time()-t1)"
   ]
  },
  {
   "cell_type": "markdown",
   "metadata": {
    "extensions": {
     "jupyter_dashboards": {
      "version": 1,
      "views": {
       "grid_default": {
        "col": 0,
        "height": 4,
        "hidden": false,
        "row": 40,
        "width": 12
       },
       "report_default": {}
      }
     }
    }
   },
   "source": [
    "### Simulate a point pattern on the network\n",
    "\n",
    "* Need to supply a count of the number of points and a distirbution (default is uniform).  Generally, this will not be called by the user, since the simulation will be used for Monte Carlo permutation."
   ]
  },
  {
   "cell_type": "code",
   "execution_count": null,
   "metadata": {
    "ExecuteTime": {
     "end_time": "2018-12-22T20:37:25.313414Z",
     "start_time": "2018-12-22T20:37:25.264251Z"
    },
    "extensions": {
     "jupyter_dashboards": {
      "version": 1,
      "views": {
       "grid_default": {
        "hidden": true
       },
       "report_default": {}
      }
     }
    }
   },
   "outputs": [],
   "source": [
    "npts = ntw.pointpatterns['crimes'].npoints\n",
    "sim = ntw.simulate_observations(npts)\n",
    "sim"
   ]
  },
  {
   "cell_type": "markdown",
   "metadata": {},
   "source": [
    "### F-function"
   ]
  },
  {
   "cell_type": "code",
   "execution_count": null,
   "metadata": {
    "ExecuteTime": {
     "end_time": "2018-12-22T20:37:58.629528Z",
     "start_time": "2018-12-22T20:37:25.321392Z"
    }
   },
   "outputs": [],
   "source": [
    "fres = ntw.NetworkF(ntw.pointpatterns['crimes'],\n",
    "                    permutations=99)"
   ]
  },
  {
   "cell_type": "code",
   "execution_count": null,
   "metadata": {
    "ExecuteTime": {
     "end_time": "2018-12-22T20:37:58.951008Z",
     "start_time": "2018-12-22T20:37:58.631510Z"
    }
   },
   "outputs": [],
   "source": [
    "plt.figure(figsize=(8,8))\n",
    "plt.plot(fres.xaxis, fres.observed, 'b-', linewidth=1.5, label='Observed')\n",
    "plt.plot(fres.xaxis, fres.upperenvelope, 'r--', label='Upper')\n",
    "plt.plot(fres.xaxis, fres.lowerenvelope, 'k--', label='Lower')\n",
    "plt.legend(loc='best', fontsize='x-large')\n",
    "plt.title('Network F Function', fontsize='xx-large')\n",
    "plt.show()"
   ]
  },
  {
   "cell_type": "markdown",
   "metadata": {
    "extensions": {
     "jupyter_dashboards": {
      "version": 1,
      "views": {
       "grid_default": {
        "col": 0,
        "height": 4,
        "hidden": false,
        "row": 44,
        "width": 12
       },
       "report_default": {}
      }
     }
    }
   },
   "source": [
    "### Create a nearest neighbor matrix using the crimes point pattern\n",
    "\n",
    "* [note from jlaura] Right now, both the G and K functions generate a full distance matrix.  This is because, I know that the full generation is correct and I believe that the truncated generated, e.g. nearest neighbor, has a bug."
   ]
  },
  {
   "cell_type": "markdown",
   "metadata": {
    "extensions": {
     "jupyter_dashboards": {
      "version": 1,
      "views": {
       "grid_default": {
        "col": 0,
        "height": 4,
        "hidden": false,
        "row": 48,
        "width": 4
       },
       "report_default": {}
      }
     }
    }
   },
   "source": [
    "### G-function"
   ]
  },
  {
   "cell_type": "code",
   "execution_count": null,
   "metadata": {
    "ExecuteTime": {
     "end_time": "2018-12-22T20:38:17.584323Z",
     "start_time": "2018-12-22T20:37:58.953560Z"
    },
    "extensions": {
     "jupyter_dashboards": {
      "version": 1,
      "views": {
       "grid_default": {
        "hidden": true
       },
       "report_default": {}
      }
     }
    }
   },
   "outputs": [],
   "source": [
    "gres = ntw.NetworkG(ntw.pointpatterns['crimes'],\n",
    "                    permutations=99)"
   ]
  },
  {
   "cell_type": "code",
   "execution_count": null,
   "metadata": {
    "ExecuteTime": {
     "end_time": "2018-12-22T20:38:17.844794Z",
     "start_time": "2018-12-22T20:38:17.586993Z"
    },
    "extensions": {
     "jupyter_dashboards": {
      "version": 1,
      "views": {
       "grid_default": {
        "hidden": true
       },
       "report_default": {}
      }
     }
    }
   },
   "outputs": [],
   "source": [
    "plt.figure(figsize=(8,8))\n",
    "plt.plot(gres.xaxis, gres.observed, 'b-', linewidth=1.5, label='Observed')\n",
    "plt.plot(gres.xaxis, gres.upperenvelope, 'r--', label='Upper')\n",
    "plt.plot(gres.xaxis, gres.lowerenvelope, 'k--', label='Lower')\n",
    "plt.legend(loc='best', fontsize='x-large')\n",
    "plt.title('Network G Function', fontsize='xx-large')\n",
    "plt.show()"
   ]
  },
  {
   "cell_type": "markdown",
   "metadata": {
    "extensions": {
     "jupyter_dashboards": {
      "version": 1,
      "views": {
       "grid_default": {
        "col": 4,
        "height": 4,
        "hidden": false,
        "row": 48,
        "width": 4
       },
       "report_default": {}
      }
     }
    }
   },
   "source": [
    "### K-function"
   ]
  },
  {
   "cell_type": "code",
   "execution_count": null,
   "metadata": {
    "ExecuteTime": {
     "end_time": "2018-12-22T20:38:35.964914Z",
     "start_time": "2018-12-22T20:38:17.847088Z"
    },
    "extensions": {
     "jupyter_dashboards": {
      "version": 1,
      "views": {
       "grid_default": {
        "hidden": true
       },
       "report_default": {}
      }
     }
    }
   },
   "outputs": [],
   "source": [
    "kres = ntw.NetworkK(ntw.pointpatterns['crimes'],\n",
    "                    permutations=99)"
   ]
  },
  {
   "cell_type": "code",
   "execution_count": null,
   "metadata": {
    "ExecuteTime": {
     "end_time": "2018-12-22T20:38:36.317865Z",
     "start_time": "2018-12-22T20:38:35.966809Z"
    },
    "extensions": {
     "jupyter_dashboards": {
      "version": 1,
      "views": {
       "grid_default": {
        "hidden": true
       },
       "report_default": {}
      }
     }
    }
   },
   "outputs": [],
   "source": [
    "plt.figure(figsize=(8,8))\n",
    "plt.plot(kres.xaxis, kres.observed, 'b-', linewidth=1.5, label='Observed')\n",
    "plt.plot(kres.xaxis, kres.upperenvelope, 'r--', label='Upper')\n",
    "plt.plot(kres.xaxis, kres.lowerenvelope, 'k--', label='Lower')\n",
    "plt.legend(loc='best', fontsize='x-large')\n",
    "plt.title('Network K Function', fontsize='xx-large')\n",
    "plt.show()"
   ]
  },
  {
   "cell_type": "markdown",
   "metadata": {
    "extensions": {
     "jupyter_dashboards": {
      "version": 1,
      "views": {
       "grid_default": {
        "col": 8,
        "height": 4,
        "hidden": false,
        "row": 48,
        "width": 4
       },
       "report_default": {}
      }
     }
    }
   },
   "source": [
    "-----------"
   ]
  }
 ],
 "metadata": {
  "_draft": {
   "nbviewer_url": "https://gist.github.com/2697ff11933bb0ea8b94c4326a540453"
  },
  "anaconda-cloud": {},
  "extensions": {
   "jupyter_dashboards": {
    "activeView": "grid_default",
    "version": 1,
    "views": {
     "grid_default": {
      "cellMargin": 10,
      "defaultCellHeight": 20,
      "maxColumns": 12,
      "name": "grid",
      "type": "grid"
     },
     "report_default": {
      "name": "report",
      "type": "report"
     }
    }
   }
  },
  "gist": {
   "data": {
    "description": "spaghetti/notebooks/Network_Usage.ipynb",
    "public": true
   },
   "id": "2697ff11933bb0ea8b94c4326a540453"
  },
  "kernelspec": {
   "display_name": "Python [conda env:py3_spgh_dev]",
   "language": "python",
   "name": "conda-env-py3_spgh_dev-py"
  },
  "language_info": {
   "codemirror_mode": {
    "name": "ipython",
    "version": 3
   },
   "file_extension": ".py",
   "mimetype": "text/x-python",
   "name": "python",
   "nbconvert_exporter": "python",
   "pygments_lexer": "ipython3",
   "version": "3.6.6"
  }
 },
 "nbformat": 4,
 "nbformat_minor": 1
}
