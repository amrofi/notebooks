{
 "cells": [
  {
   "cell_type": "code",
   "execution_count": 1,
   "metadata": {},
   "outputs": [],
   "source": [
    "import numpy as np\n",
    "# import scipy as sp\n",
    "from pysal.model.mgwr.sel_bw import Sel_BW\n",
    "# from pysal.model.mgwr.gwr import GWR, MGWR\n",
    "import pandas as pd\n",
    "import pysal.lib as ps\n",
    "# import pickle as pk\n",
    "# import os"
   ]
  },
  {
   "cell_type": "code",
   "execution_count": 2,
   "metadata": {},
   "outputs": [],
   "source": [
    "data = ps.io.open(ps.examples.get_path('GData_utm.csv'))\n",
    "coords = list(zip(data.by_col('X'), data.by_col('Y')))\n",
    "y = np.array(data.by_col('PctBach')).reshape((-1,1))\n",
    "rural  = np.array(data.by_col('PctRural')).reshape((-1,1))\n",
    "pov = np.array(data.by_col('PctPov')).reshape((-1,1)) \n",
    "black = np.array(data.by_col('PctBlack')).reshape((-1,1))\n",
    "fb = np.array(data.by_col('PctFB')).reshape((-1,1))\n",
    "pop = np.array(data.by_col('TotPop90')).reshape((-1,1))\n",
    "\n",
    "\n",
    "X = np.hstack([fb, black, rural])\n"
   ]
  },
  {
   "cell_type": "code",
   "execution_count": 3,
   "metadata": {},
   "outputs": [
    {
     "name": "stdout",
     "output_type": "stream",
     "text": [
      "bw: 117.0\n"
     ]
    },
    {
     "ename": "NameError",
     "evalue": "name 'GWR' is not defined",
     "output_type": "error",
     "traceback": [
      "\u001b[0;31m---------------------------------------------------------------------------\u001b[0m",
      "\u001b[0;31mNameError\u001b[0m                                 Traceback (most recent call last)",
      "\u001b[0;32m<ipython-input-3-2da488ac544f>\u001b[0m in \u001b[0;36m<module>\u001b[0;34m\u001b[0m\n\u001b[1;32m      9\u001b[0m \u001b[0mbw\u001b[0m \u001b[0;34m=\u001b[0m \u001b[0msel\u001b[0m\u001b[0;34m.\u001b[0m\u001b[0msearch\u001b[0m\u001b[0;34m(\u001b[0m\u001b[0;34m)\u001b[0m\u001b[0;34m\u001b[0m\u001b[0m\n\u001b[1;32m     10\u001b[0m \u001b[0mprint\u001b[0m\u001b[0;34m(\u001b[0m\u001b[0;34m'bw:'\u001b[0m\u001b[0;34m,\u001b[0m \u001b[0mbw\u001b[0m\u001b[0;34m)\u001b[0m\u001b[0;34m\u001b[0m\u001b[0m\n\u001b[0;32m---> 11\u001b[0;31m \u001b[0mgwr\u001b[0m \u001b[0;34m=\u001b[0m \u001b[0mGWR\u001b[0m\u001b[0;34m(\u001b[0m\u001b[0mcoords\u001b[0m\u001b[0;34m,\u001b[0m \u001b[0my\u001b[0m\u001b[0;34m,\u001b[0m \u001b[0mX\u001b[0m\u001b[0;34m,\u001b[0m \u001b[0mbw\u001b[0m\u001b[0;34m)\u001b[0m\u001b[0;34m\u001b[0m\u001b[0m\n\u001b[0m\u001b[1;32m     12\u001b[0m \u001b[0mgwr_results\u001b[0m \u001b[0;34m=\u001b[0m \u001b[0mgwr\u001b[0m\u001b[0;34m.\u001b[0m\u001b[0mfit\u001b[0m\u001b[0;34m(\u001b[0m\u001b[0;34m)\u001b[0m\u001b[0;34m\u001b[0m\u001b[0m\n\u001b[1;32m     13\u001b[0m \u001b[0mprint\u001b[0m\u001b[0;34m(\u001b[0m\u001b[0;34m'aicc:'\u001b[0m\u001b[0;34m,\u001b[0m \u001b[0mgwr_results\u001b[0m\u001b[0;34m.\u001b[0m\u001b[0maicc\u001b[0m\u001b[0;34m)\u001b[0m\u001b[0;34m\u001b[0m\u001b[0m\n",
      "\u001b[0;31mNameError\u001b[0m: name 'GWR' is not defined"
     ]
    }
   ],
   "source": [
    "X = (X - X.mean(axis=0)) / X.std(axis=0)\n",
    "\n",
    "y = y.reshape((-1,1))\n",
    "\n",
    "y = (y - y.mean(axis=0)) / y.std(axis=0)\n",
    "\n",
    "sel = Sel_BW(coords, y, X)\n",
    "\n",
    "bw = sel.search()\n",
    "print('bw:', bw)\n",
    "gwr = GWR(coords, y, X, bw)\n",
    "gwr_results = gwr.fit()\n",
    "print('aicc:', gwr_results.aicc)\n",
    "print('ENP:', gwr_results.ENP)\n",
    "print('sigma2:', gwr_results.sigma2)"
   ]
  },
  {
   "cell_type": "code",
   "execution_count": null,
   "metadata": {},
   "outputs": [],
   "source": [
    "X = (X - X.mean(axis=0)) / X.std(axis=0)\n",
    "\n",
    "y = y.reshape((-1,1))\n",
    "\n",
    "y = (y - y.mean(axis=0)) / y.std(axis=0)\n",
    "\n",
    "selector = Sel_BW(coords, y, X, multi=True, constant=True)\n",
    "bw = selector.search(multi_bw_min=[2], multi_bw_max=[159])\n",
    "print('bw(intercept):', bw[0])\n",
    "print('bw(foreign):', bw[1])\n",
    "print('bw(african_amer):', bw[2])\n",
    "print('bw(rural):', bw[3])\n",
    "mgwr = MGWR(coords, y, X, selector, constant=True)\n",
    "mgwr_results = mgwr.fit()\n",
    "print('aicc:', mgwr_results.aicc)\n",
    "print('sigma2:', mgwr_results.sigma2)\n",
    "print('ENP(model):', mgwr_results.ENP)\n",
    "print('adj_alpha(model):', mgwr_results.adj_alpha[1])\n",
    "print('critical_t(model):', mgwr_results.critical_tval(alpha=mgwr_results.adj_alpha[1]))\n",
    "alphas = mgwr_results.adj_alpha_j[:,1]\n",
    "critical_ts = mgwr_results.critical_tval()\n",
    "print('ENP(intercept):', mgwr_results.ENP_j[0])\n",
    "print('adj_alpha(intercept):', alphas[0])\n",
    "print('critical_t(intercept):', critical_ts[0])\n",
    "print('ENP(foreign):', mgwr_results.ENP_j[1])\n",
    "print('adj_alpha(foreign):', alphas[1])\n",
    "print('critical_t(foreign):', critical_ts[1])\n",
    "print('ENP(african_amer):', mgwr_results.ENP_j[2])\n",
    "print('adj_alpha(african_amer):', alphas[2])\n",
    "print('critical_t(african_amer):', critical_ts[2])\n",
    "print('ENP(rural):', mgwr_results.ENP_j[3])\n",
    "print('adj_alpha(rural):', alphas[3])\n",
    "print('critical_t(rural):', critical_ts[3])"
   ]
  },
  {
   "cell_type": "code",
   "execution_count": null,
   "metadata": {},
   "outputs": [],
   "source": []
  }
 ],
 "metadata": {
  "anaconda-cloud": {},
  "kernelspec": {
   "display_name": "Python 3",
   "language": "python",
   "name": "python3"
  },
  "language_info": {
   "codemirror_mode": {
    "name": "ipython",
    "version": 3
   },
   "file_extension": ".py",
   "mimetype": "text/x-python",
   "name": "python",
   "nbconvert_exporter": "python",
   "pygments_lexer": "ipython3",
   "version": "3.6.6"
  }
 },
 "nbformat": 4,
 "nbformat_minor": 1
}
