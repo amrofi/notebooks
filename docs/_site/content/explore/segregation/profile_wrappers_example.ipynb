{
 "cells": [
  {
   "cell_type": "markdown",
   "metadata": {},
   "source": [
    "# Example of use of the Profile Wrappers of the PySAL *segregation* module"
   ]
  },
  {
   "cell_type": "markdown",
   "metadata": {},
   "source": [
    "The Profile Wrappers comprises simple and quick functions to assess multiple segregation measures at once in a dataset. It uses all the default parameters and returns an object that has an attribute (.profile) of a dictionary with summary of all values fitted.\n",
    "\n",
    "The wrappers have currently three classes: nonspatial profiles, spatial profiles and the overall profile which comprises all the measures available.\n",
    "\n",
    "Firstly, we need to import the libraries and functions to be used."
   ]
  },
  {
   "cell_type": "code",
   "execution_count": 1,
   "metadata": {},
   "outputs": [],
   "source": [
    "%matplotlib inline\n",
    "\n",
    "import geopandas as gpd\n",
    "from pysal.explore import segregation\n",
    "import pysal.lib\n",
    "from pysal.explore.segregation.profile_wrappers import Profile_Non_Spatial_Segregation, Profile_Spatial_Segregation, Profile_Segregation"
   ]
  },
  {
   "cell_type": "markdown",
   "metadata": {},
   "source": [
    "Then it's time to load some data to estimate segregation. We use the data of 2000 Census Tract Data for the metropolitan area of Sacramento, CA, USA. \n",
    "\n",
    "We use a geopandas dataframe available in PySAL examples repository.\n",
    "\n",
    "For more information about the data: https://github.com/pysal/pysal.lib/tree/master/pysal.lib/examples/sacramento2"
   ]
  },
  {
   "cell_type": "code",
   "execution_count": 2,
   "metadata": {},
   "outputs": [
    {
     "data": {
      "text/plain": [
       "Index(['FIPS', 'MSA', 'TOT_POP', 'POP_16', 'POP_65', 'WHITE_', 'BLACK_',\n",
       "       'ASIAN_', 'HISP_', 'MULTI_RA', 'MALES', 'FEMALES', 'MALE1664',\n",
       "       'FEM1664', 'EMPL16', 'EMP_AWAY', 'EMP_HOME', 'EMP_29', 'EMP_30',\n",
       "       'EMP16_2', 'EMP_MALE', 'EMP_FEM', 'OCC_MAN', 'OCC_OFF1', 'OCC_INFO',\n",
       "       'HH_INC', 'POV_POP', 'POV_TOT', 'HSG_VAL', 'FIPSNO', 'POLYID',\n",
       "       'geometry'],\n",
       "      dtype='object')"
      ]
     },
     "execution_count": 2,
     "metadata": {},
     "output_type": "execute_result"
    }
   ],
   "source": [
    "s_map = gpd.read_file(pysal.lib.examples.get_path(\"sacramentot2.shp\"))\n",
    "s_map.columns"
   ]
  },
  {
   "cell_type": "markdown",
   "metadata": {},
   "source": [
    "The data have several demographic variables. We are going to assess the segregation of the Hispanic Population (variable 'HISP_'). For this, we only extract some columns of the geopandas dataframe."
   ]
  },
  {
   "cell_type": "code",
   "execution_count": 3,
   "metadata": {},
   "outputs": [],
   "source": [
    "gdf = s_map[['geometry', 'HISP_', 'TOT_POP']]"
   ]
  },
  {
   "cell_type": "markdown",
   "metadata": {},
   "source": [
    "### Non-Spatial Profile"
   ]
  },
  {
   "cell_type": "code",
   "execution_count": 4,
   "metadata": {},
   "outputs": [
    {
     "name": "stderr",
     "output_type": "stream",
     "text": [
      "c:\\users\\renan\\desktop\\segregation\\segregation\\entropy.py:64: RuntimeWarning: divide by zero encountered in true_divide\n",
      "  Ei = pi * np.log(1 / pi) + (1 - pi) * np.log(1 / (1 - pi))\n",
      "c:\\users\\renan\\desktop\\segregation\\segregation\\entropy.py:64: RuntimeWarning: invalid value encountered in multiply\n",
      "  Ei = pi * np.log(1 / pi) + (1 - pi) * np.log(1 / (1 - pi))\n"
     ]
    },
    {
     "data": {
      "text/plain": [
       "{'Dissimilarity': 0.32184656076566864,\n",
       " 'Gini': 0.43506510676886234,\n",
       " 'Entropy': 0.09459760633014454,\n",
       " 'Atkinson': 0.15079259382667654,\n",
       " 'Exposure': 0.7680384513540848,\n",
       " 'Isolation': 0.2319615486459151,\n",
       " 'Concentration Profile': 0.1376874794741899,\n",
       " 'Bias Corrected Dissimilarity': 0.321368377703044,\n",
       " 'Density Corrected Dissimilarity': 0.295205155464069,\n",
       " 'Correlation Ratio': 0.09164042012926693,\n",
       " 'Modified Dissimilarity': 0.3107369316658255,\n",
       " 'Modified Gini': 0.42176600428897665}"
      ]
     },
     "execution_count": 4,
     "metadata": {},
     "output_type": "execute_result"
    }
   ],
   "source": [
    "non_spatial_fit = Profile_Non_Spatial_Segregation(gdf, 'HISP_', 'TOT_POP')\n",
    "non_spatial_fit.profile"
   ]
  },
  {
   "cell_type": "markdown",
   "metadata": {},
   "source": [
    "### Spatial Profile"
   ]
  },
  {
   "cell_type": "code",
   "execution_count": 5,
   "metadata": {},
   "outputs": [
    {
     "name": "stderr",
     "output_type": "stream",
     "text": [
      "c:\\users\\renan\\desktop\\segregation\\segregation\\spatial_prox_profile.py:87: RuntimeWarning: invalid value encountered in long_scalars\n",
      "  eta_t = (k**2 - k) / den\n"
     ]
    },
    {
     "data": {
      "text/plain": [
       "{'Spatial Dissimilarity': 0.2611974332919437,\n",
       " 'Absolute Centralization': 0.6891422368736286,\n",
       " 'Absolute Concentration': 0.21496583971774408,\n",
       " 'Delta': 0.8044969214141899,\n",
       " 'Relative Centralization': -0.11194177550430595,\n",
       " 'Relative Clustering': 0.009095632468738568,\n",
       " 'Relative Concentration': 0.13102848628073688,\n",
       " 'Spatial Exposure': 0.8396583368412371,\n",
       " 'Spatial Isolation': 0.1562162475606278,\n",
       " 'Spatial Proximity Profile': 0.22847334404621394,\n",
       " 'Spatial Proximity': 1.0026623464135092,\n",
       " 'Boundary Spatial Dissimilarity': 0.2667626367289605,\n",
       " 'Perimeter Area Ratio Spatial Dissimilarity': 0.3165091834802075,\n",
       " 'Spatial Information Theory': 0.778177518074913}"
      ]
     },
     "execution_count": 5,
     "metadata": {},
     "output_type": "execute_result"
    }
   ],
   "source": [
    "spatial_fit = Profile_Spatial_Segregation(gdf, 'HISP_', 'TOT_POP')\n",
    "spatial_fit.profile"
   ]
  },
  {
   "cell_type": "markdown",
   "metadata": {},
   "source": [
    "### Overall Segregation Profile"
   ]
  },
  {
   "cell_type": "code",
   "execution_count": 6,
   "metadata": {},
   "outputs": [
    {
     "name": "stderr",
     "output_type": "stream",
     "text": [
      "c:\\users\\renan\\desktop\\segregation\\segregation\\entropy.py:64: RuntimeWarning: divide by zero encountered in true_divide\n",
      "  Ei = pi * np.log(1 / pi) + (1 - pi) * np.log(1 / (1 - pi))\n",
      "c:\\users\\renan\\desktop\\segregation\\segregation\\entropy.py:64: RuntimeWarning: invalid value encountered in multiply\n",
      "  Ei = pi * np.log(1 / pi) + (1 - pi) * np.log(1 / (1 - pi))\n",
      "c:\\users\\renan\\desktop\\segregation\\segregation\\spatial_prox_profile.py:87: RuntimeWarning: invalid value encountered in long_scalars\n",
      "  eta_t = (k**2 - k) / den\n"
     ]
    },
    {
     "data": {
      "text/plain": [
       "{'Dissimilarity': 0.32184656076566864,\n",
       " 'Gini': 0.43506510676886234,\n",
       " 'Entropy': 0.09459760633014454,\n",
       " 'Atkinson': 0.15079259382667654,\n",
       " 'Exposure': 0.7680384513540848,\n",
       " 'Isolation': 0.2319615486459151,\n",
       " 'Concentration Profile': 0.1376874794741899,\n",
       " 'Bias Corrected Dissimilarity': 0.3214362960831827,\n",
       " 'Density Corrected Dissimilarity': 0.295205155464069,\n",
       " 'Correlation Ratio': 0.09164042012926693,\n",
       " 'Modified Dissimilarity': 0.31075359653655094,\n",
       " 'Modified Gini': 0.4217841271855144,\n",
       " 'Spatial Dissimilarity': 0.2611974332919437,\n",
       " 'Absolute Centralization': 0.6891422368736286,\n",
       " 'Absolute Concentration': 0.21496583971774408,\n",
       " 'Delta': 0.8044969214141899,\n",
       " 'Relative Centralization': -0.11194177550430595,\n",
       " 'Relative Clustering': 0.009095632468738568,\n",
       " 'Relative Concentration': 0.13102848628073688,\n",
       " 'Spatial Exposure': 0.8396583368412371,\n",
       " 'Spatial Isolation': 0.1562162475606278,\n",
       " 'Spatial Proximity Profile': 0.22847334404621394,\n",
       " 'Spatial Proximity': 1.0026623464135092,\n",
       " 'Boundary Spatial Dissimilarity': 0.2667626367289605,\n",
       " 'Perimeter Area Ratio Spatial Dissimilarity': 0.3165091834802075,\n",
       " 'Spatial Information Theory': 0.778177518074913}"
      ]
     },
     "execution_count": 6,
     "metadata": {},
     "output_type": "execute_result"
    }
   ],
   "source": [
    "segregation_fit = Profile_Segregation(gdf, 'HISP_', 'TOT_POP')\n",
    "segregation_fit.profile"
   ]
  },
  {
   "cell_type": "code",
   "execution_count": null,
   "metadata": {},
   "outputs": [],
   "source": []
  }
 ],
 "metadata": {
  "kernelspec": {
   "display_name": "Python 3",
   "language": "python",
   "name": "python3"
  },
  "language_info": {
   "codemirror_mode": {
    "name": "ipython",
    "version": 3
   },
   "file_extension": ".py",
   "mimetype": "text/x-python",
   "name": "python",
   "nbconvert_exporter": "python",
   "pygments_lexer": "ipython3",
   "version": "3.6.5"
  }
 },
 "nbformat": 4,
 "nbformat_minor": 2
}
