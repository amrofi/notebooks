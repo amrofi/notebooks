{
 "cells": [
  {
   "cell_type": "markdown",
   "metadata": {},
   "source": [
    "-------------------------"
   ]
  },
  {
   "cell_type": "markdown",
   "metadata": {},
   "source": [
    "#### This notebook requires installations of:\n",
    "* [`geopandas`](http://geopandas.org)\n",
    "    * `$ conda install -c conda-forge geopandas`\n",
    "\n",
    "* [`shapely`](https://shapely.readthedocs.io/en/latest/)\n",
    "    * `$ conda install -c conda-forge shapely`\n",
    "\n",
    "* [`matplotlib`](https://matplotlib.org)\n",
    "    * `$ conda install matplotlib`\n",
    "\n",
    "* [`seaborn`](https://seaborn.pydata.org/index.html)\n",
    "    * `$ conda install seaborn`\n",
    "\n",
    "* [`ortools`](https://developers.google.com/optimization/)\n",
    "    * `$ pip install ortools`"
   ]
  },
  {
   "cell_type": "markdown",
   "metadata": {},
   "source": [
    "---------------------"
   ]
  },
  {
   "cell_type": "markdown",
   "metadata": {},
   "source": [
    "# Demostrating fundamental network-based optimal facility location modeling\n",
    "## Integrating `spaghetti` and [`Cbc`](https://projects.coin-or.org/Cbc)/[`ortools`](https://developers.google.com/optimization/)"
   ]
  },
  {
   "cell_type": "markdown",
   "metadata": {},
   "source": [
    "#### James D. Gaboardi <<jgaboardi@fsu.edu>>"
   ]
  },
  {
   "cell_type": "code",
   "execution_count": null,
   "metadata": {
    "ExecuteTime": {
     "end_time": "2019-05-14T00:34:01.228731Z",
     "start_time": "2019-05-14T00:34:01.206128Z"
    }
   },
   "outputs": [],
   "source": [
    "import os\n",
    "last_modified = None\n",
    "if os.name == \"posix\":\n",
    "    last_modified = !stat -f\\\n",
    "                    \"# This notebook was last updated: %Sm\"\\\n",
    "                     Facility_Location.ipynb\n",
    "elif os.name == \"nt\":\n",
    "    last_modified = !for %a in (Facility_Location.ipynb)\\\n",
    "                    do echo # This notebook was last updated: %~ta\n",
    "    \n",
    "if last_modified:\n",
    "    get_ipython().set_next_input(last_modified[-1])"
   ]
  },
  {
   "cell_type": "code",
   "execution_count": null,
   "metadata": {},
   "outputs": [],
   "source": [
    "# This notebook was last updated: May 13 20:33:56 2019"
   ]
  },
  {
   "cell_type": "markdown",
   "metadata": {},
   "source": [
    "---------------------------"
   ]
  },
  {
   "cell_type": "markdown",
   "metadata": {},
   "source": [
    "## Scenario:\n",
    "\n",
    "The Neighborhood X Planning Committee has been asked by residents to set up a [Little Free Library](https://littlefreelibrary.org) program to supplement the community's growing reading needs, as 15 families just moved in bring the total household count to ***400***. Since the neighborhood can't afford to have a library on every corner, the committee must decide on where to locate them and how to do so in a transparent manner. There are currently ***14*** candidate sites in the neighborhood for Little Free Libraries and the community can afford to support up to ***5*** locations, but would preferably support ***3*** locations with the extra budget going towards new books and unforseen maintenance costs. The committee also must locate all the libraries within ***1 km*** of all households, but preferably with ***.8km***. As it turns out one of the committee members is an Operations Research professor at the local university, Dr. Minimax, and volunteers to build 4 models to optimally site the Little Free Libraries acording to objective functions and specific sets of contraints. She puts forth 4 facility location models:"
   ]
  },
  {
   "cell_type": "markdown",
   "metadata": {},
   "source": [
    "   * **Location Set Covering Problem**\n",
    "       * Site the minimum number of facilities to cover all demand (clients) within a specified service radius.\n",
    "       * Originally Published:\n",
    "             Toregas, C. and ReVelle, Charles. 1972. Optimal Location Under Time or Distance Constraints.\n",
    "             Papers of the Regional Science Association. 28(1):133 - 144.\n",
    "              \n",
    "   * ***p*-median Problem**\n",
    "       * Site a predetermined number of facilities while minimizing total weighted distance.\n",
    "       * Originally Published:\n",
    "             S. L. Hakimi. 1964. Optimum Locations of Switching Centers and the Absolute Centers and Medians\n",
    "             of a Graph. Operations Research. 12 (3):450-459.\n",
    "       \n",
    "   * ***p*-center Problem**\n",
    "       * Site a predetermined number of facilities while minimizing the worst-case travel distance.\n",
    "       * Originally Published:\n",
    "             S. L. Hakimi. 1964. Optimum Locations of Switching Centers and the Absolute Centers and Medians\n",
    "             of a Graph. Operations Research. 12 (3):450-459.\n",
    "       \n",
    "   * **Maximal Covering Location Problem**\n",
    "       * Site a predetermined number of facilities while maximizing demand coverage within a specified service radius.\n",
    "       * Originally Published:\n",
    "             Church, R. L and C. ReVelle. 1974. The Maximal Covering Location Problem.\n",
    "             Papers of the Regional Science Association. 32:101-18."
   ]
  },
  {
   "cell_type": "markdown",
   "metadata": {},
   "source": [
    "-------------------"
   ]
  },
  {
   "cell_type": "code",
   "execution_count": null,
   "metadata": {
    "ExecuteTime": {
     "end_time": "2019-05-14T00:34:02.827356Z",
     "start_time": "2019-05-14T00:34:01.424301Z"
    }
   },
   "outputs": [],
   "source": [
    "# pysal submodule imports\n",
    "from pysal.lib import cg, examples\n",
    "from pysal.explore import spaghetti as spgh\n",
    "\n",
    "import geopandas as gpd\n",
    "from shapely.geometry import Point\n",
    "import numpy as np\n",
    "from ortools.linear_solver import pywraplp\n",
    "import copy, sys, warnings\n",
    "from collections import OrderedDict\n",
    "\n",
    "import seaborn as sns\n",
    "import matplotlib as mpl\n",
    "import matplotlib.pyplot as plt\n",
    "import matplotlib.lines as mlines\n",
    "import matplotlib.patches as mpatches\n",
    "from matplotlib.colors import ListedColormap\n",
    "\n",
    "try:\n",
    "    from IPython.display import set_matplotlib_formats\n",
    "    set_matplotlib_formats('retina')\n",
    "except ImportError:\n",
    "    pass\n",
    "\n",
    "%matplotlib inline"
   ]
  },
  {
   "cell_type": "markdown",
   "metadata": {},
   "source": [
    "#### Suppress `matplotlib` color `UserWarning` messages"
   ]
  },
  {
   "cell_type": "code",
   "execution_count": null,
   "metadata": {
    "ExecuteTime": {
     "end_time": "2019-05-14T00:34:02.832586Z",
     "start_time": "2019-05-14T00:34:02.829280Z"
    }
   },
   "outputs": [],
   "source": [
    "warnings.filterwarnings('ignore', message=\"Setting the 'color'\")\n",
    "warnings.filterwarnings('ignore', message=\"The GeoDataFrame you are\")"
   ]
  },
  {
   "cell_type": "markdown",
   "metadata": {},
   "source": [
    "-------------------"
   ]
  },
  {
   "cell_type": "markdown",
   "metadata": {},
   "source": [
    "### Set  parameters as per the scenario layed out above"
   ]
  },
  {
   "cell_type": "code",
   "execution_count": null,
   "metadata": {
    "ExecuteTime": {
     "end_time": "2019-05-14T00:34:02.839011Z",
     "start_time": "2019-05-14T00:34:02.835374Z"
    }
   },
   "outputs": [],
   "source": [
    "# n clients and n facilities\n",
    "client_count, facility_count = 400, 14\n",
    "\n",
    "# candidate facilites to site\n",
    "p_facilities = 3\n",
    "\n",
    "# maximum coverage meters\n",
    "max_coverage = 1000.\n",
    "\n",
    "# minimum coverage meters\n",
    "min_coverage = 800.\n",
    "\n",
    "random_seeds = {'client': 3006,\n",
    "                'facility': 1520}\n",
    "\n",
    "title = 'Neighborhood X'"
   ]
  },
  {
   "cell_type": "markdown",
   "metadata": {},
   "source": [
    "---------------------------------------"
   ]
  },
  {
   "cell_type": "code",
   "execution_count": null,
   "metadata": {
    "ExecuteTime": {
     "end_time": "2019-05-14T00:34:02.947148Z",
     "start_time": "2019-05-14T00:34:02.841915Z"
    }
   },
   "outputs": [],
   "source": [
    "class FacilityLocationModel:\n",
    "    \"\"\"Solve a facility locatiom optimization model\n",
    "    \n",
    "    Parameters \n",
    "    ----------\n",
    "    name : str\n",
    "        Problem model name; must also be defined as a class method.\n",
    "    cij : numpy.ndarray\n",
    "        cost matrix from origins (index of i) to destination (index of j).\n",
    "        Default is None.\n",
    "    ai : numpy.ndarray\n",
    "        Client weight vector. Default is None.\n",
    "    s : float\n",
    "        service radius. Default is None.\n",
    "    p : int\n",
    "        Density of facilities to site. Default is None.\n",
    "    write_lp : str\n",
    "        file name (and path) of the LP file to write out.\n",
    "    print_sol : bool\n",
    "        print select results. Default is True.\n",
    "    \n",
    "    Methods\n",
    "    -------\n",
    "    build_lscp : build location set covering problem\n",
    "    build_pmp : build p-median problem\n",
    "    build_pcp : build p-center problem\n",
    "    build_mclp : build maximal covering location problem\n",
    "    add_vars : add variables to a model\n",
    "    add_constrs : add contraints to a model\n",
    "    add_obj : add an objective function to a model\n",
    "    optimize : solve a model\n",
    "    record_decisions : record optimal decision variables\n",
    "    non_obj_vals : record non-objective values stats (eg. percent covered)\n",
    "    print_results : print selected results\n",
    "\n",
    "    Attributes \n",
    "    ----------\n",
    "    model : ortools.linear_solver.pywraplp.Solver\n",
    "        proxy of <Swig Object of type 'operations_research::MPSolver *'\n",
    "    n_cli : int\n",
    "        total client sites\n",
    "    r_cli : range\n",
    "        iterable of client sites\n",
    "    n_fac : int\n",
    "        total candidate facility sites\n",
    "    r_fac : range\n",
    "        iterable of candidate facility sites\n",
    "    aij : numpy.ndarray\n",
    "        binary coverage matrix from cij (within s service radius)\n",
    "    sij : numpy.ndarray\n",
    "        demand weighted cost matrix as (ai * cij).\n",
    "    fac_vars : dict\n",
    "        facility decision variables\n",
    "    cli_vars : dict\n",
    "        client decision variables\n",
    "    W : ortools.linear_solver.pywraplp.Variable\n",
    "        minimized maximum variable in the p-center problem formulation\n",
    "    lp_formulation : str\n",
    "        linear programming formulation of the model\n",
    "    solve_minutes : float\n",
    "        solve time in minutes\n",
    "    obj_val : int or float\n",
    "        model objective value\n",
    "    fac2cli : dict\n",
    "        facility to client relationship lookup\n",
    "    cli2fac : dict\n",
    "        client to facility relationship lookup\n",
    "    fac2iloc : dict\n",
    "        facility to dataframe index location lookup\n",
    "    n_cli_uncov : int\n",
    "        count of client location outside the service radius  \n",
    "    cli2ncov : dict\n",
    "        client to covered by count lookup\n",
    "    ncov2ncli : dict\n",
    "        covered by count to client count lookup\n",
    "    mean_dist :\n",
    "        mean distance per person to the assigned facility\n",
    "    perc_served : \n",
    "        percentage of weighted clients covered in `s`\n",
    "    \"\"\"\n",
    "    def __init__(self, name, ai=None, cij=None, s=None,\n",
    "                 p=None, write_lp=None, print_sol=True):\n",
    "        # Set model information\n",
    "        self.name = name\n",
    "        # create a solver instance\n",
    "        solver_instance = pywraplp.Solver.CBC_MIXED_INTEGER_PROGRAMMING\n",
    "        # instantiate a model\n",
    "        self.model = pywraplp.Solver(self.name, solver_instance)\n",
    "        \n",
    "        # Set parameters and indices\n",
    "        # facility parameter\n",
    "        if p:\n",
    "            self.p = p \n",
    "        # client count and range\n",
    "        self.cij = cij\n",
    "        self.n_cli = cij.shape[0]\n",
    "        self.r_cli = range(self.n_cli)\n",
    "        # facility count and range\n",
    "        self.n_fac = self.cij.shape[1]\n",
    "        self.r_fac = range(self.n_fac)\n",
    "        # demand parameter\n",
    "        if ai is not None:\n",
    "            self.ai = ai\n",
    "            self.ai_sum = ai.sum()\n",
    "            # weighted demand\n",
    "            try:\n",
    "                self.sij = self.ai * self.cij\n",
    "            except ValueError:\n",
    "                self.ai = self.ai.values.reshape(self.n_cli, 1)\n",
    "                self.sij = self.ai * self.cij\n",
    "        # if the model has a service radius parameter\n",
    "        if s:\n",
    "            self.s = s\n",
    "            # binary coverage matrix from cij\n",
    "            self.aij = np.zeros(self.cij.shape)\n",
    "            self.aij[self.cij <= self.s] = 1.\n",
    "            \n",
    "        # Set decision variables, constraints, and objective function\n",
    "        try:\n",
    "            getattr(self, 'build_'+self.name)()\n",
    "        except:\n",
    "            raise AttributeError(self.name, 'not a defined location model.')\n",
    "        \n",
    "        # solve\n",
    "        self.optimize(write_lp=write_lp)\n",
    "        # records seleted decision variables\n",
    "        self.record_decisions()\n",
    "        # record non-objective values stats (eg. percent covered)\n",
    "        self.non_obj_vals()\n",
    "        # print results\n",
    "        if print_sol:\n",
    "            self.print_results()\n",
    "    \n",
    "    \n",
    "    def build_lscp(self):\n",
    "        \"\"\" Integer programming formulation of the Location Set Covering Problem.\n",
    "        Originally Published:\n",
    "            Toregas, C. and ReVelle, Charles. 1972.\n",
    "            Optimal Location Under Time or Distance Constraints.\n",
    "            Papers of the Regional Science Association. 28(1):133 - 144.\n",
    "        \"\"\"\n",
    "        # Decision Variables\n",
    "        self.add_vars()\n",
    "        # Constraints\n",
    "        self.add_constrs(constr=1) # set coverage constraints\n",
    "        # Objective Function\n",
    "        self.add_obj()\n",
    "    \n",
    "    \n",
    "    def build_pmp(self):\n",
    "        \"\"\"Integer programming formulation of the p-median Problem.\n",
    "        Originally Published:\n",
    "            S. L. Hakimi. 1964. Optimum Locations of Switching Centers and \n",
    "            the Absolute Centers and Medians of a Graph. Operations Research.\n",
    "            12 (3):450-459.\n",
    "        Adapted from:\n",
    "                -1-\n",
    "            ReVelle, C.S. and Swain, R.W. 1970. Central facilities location.\n",
    "            Geographical Analysis. 2(1), 30-42.\n",
    "                -2-\n",
    "            Toregas, C., Swain, R., ReVelle, C., Bergman, L. 1971. The Location\n",
    "            of Emergency Service Facilities. Operations Research. 19 (6),\n",
    "            1363-1373.\n",
    "                - 3 -\n",
    "            Daskin, M. (1995). Network and discrete location: Models, algorithms,\n",
    "            and applications. New York: John Wiley and Sons, Inc.\n",
    "        \"\"\"\n",
    "        # Decision Variables\n",
    "        self.add_vars()\n",
    "        # Constraints\n",
    "        self.add_constrs(constr=2) # assignment constraints\n",
    "        self.add_constrs(constr=3) # facility constraint\n",
    "        self.add_constrs(constr=4) # opening constraints\n",
    "        # Objective Function\n",
    "        self.add_obj()\n",
    "    \n",
    "    \n",
    "    def build_pcp(self):\n",
    "        \"\"\"Integer programming formulation of the p-center Problem.\n",
    "        Originally Published:\n",
    "            S. L. Hakimi. 1964. Optimum Locations of Switching Centers and \n",
    "            the Absolute Centers and Medians of a Graph. Operations Research. \n",
    "            12 (3):450-459.\n",
    "        Adapted from:\n",
    "            Daskin, M. (1995). Network and discrete location: Models, algorithms,\n",
    "            and applications. New York: John Wiley and Sons, Inc.\n",
    "        \"\"\"\n",
    "        # Decision Variables\n",
    "        self.add_vars()\n",
    "        # Constraints\n",
    "        self.add_constrs(constr=2) # assignment constraints\n",
    "        self.add_constrs(constr=3) # facility constraint\n",
    "        self.add_constrs(constr=4) # opening constraints\n",
    "        self.add_constrs(constr=5) # minimized maximum constraints\n",
    "        # Objective Function\n",
    "        self.add_obj()\n",
    "    \n",
    "    \n",
    "    def build_mclp(self):\n",
    "        \"\"\"Integer programming formulation of the Maximal Covering Location Problem.\n",
    "        Originally Published:\n",
    "            Church, R. L and C. ReVelle. 1974. The Maximal Covering Location\n",
    "            Problem. Papers of the Regional Science Association. 32:101-18.\n",
    "        \"\"\"\n",
    "        # Decision Variables\n",
    "        self.add_vars()\n",
    "        # Constraints\n",
    "        self.add_constrs(constr=3) # facility constraint\n",
    "        self.add_constrs(constr=6) # maximal coverage constraints\n",
    "        # Objective Function\n",
    "        self.add_obj()\n",
    "    \n",
    "    \n",
    "    def add_vars(self):\n",
    "        \"\"\"Add variables to a model.\n",
    "        \"\"\"\n",
    "        # facility decision variables\n",
    "        self.fac_vars = {j: self.model.IntVar(0,1, 'y[%i]' % (j))\\\n",
    "                                             for j in self.r_fac}\n",
    "        # client decision variables\n",
    "        if self.name == 'mclp':\n",
    "            self.cli_vars = {(i): self.model.IntVar(0,1, 'x[%i]' % (i))\\\n",
    "                                                     for i in self.r_cli}\n",
    "        if self.name == 'pmp' or self.name == 'pcp':\n",
    "            self.cli_vars = {(i,j): self.model.IntVar(0,1, 'x[%i,%i]' % (i,j))\\\n",
    "                                     for i in self.r_cli for j in self.r_fac}\n",
    "        # minimized maximum variable\n",
    "        if self.name == 'pcp':\n",
    "            self.W = self.model.NumVar(0, self.model.infinity(), 'W')\n",
    "    \n",
    "    \n",
    "    def add_constrs(self, constr=None):\n",
    "        \"\"\" Add constraints to a model.\n",
    "        (1) set coverage constraints\n",
    "                y1 + x2 >= 1\n",
    "                x1 + x3 >= 1\n",
    "                x2 >= 1\n",
    "        (2) assignment constraints\n",
    "                x1_1 + x1_2 + x1_3 = 1\n",
    "        (3) facility constraints\n",
    "                y1 + y2 + y3 = p\n",
    "        (4) opening constraints\n",
    "                - x1_1 + y1 >= 0\n",
    "                - x2_1 + y1 >= 0\n",
    "                - x3_1 + y1 >= 0\n",
    "        (5) minimax constraints\n",
    "                cost1_1*x1_1 + cost1_2*x1_2 + cost1_3*x1_3 - W <= 0\n",
    "        (6) maximal coverage constraints\n",
    "                - x1 + y1 + y3 >= 0\n",
    "                - x2 + y4 >= 0\n",
    "        Parameters\n",
    "        ----------\n",
    "        constr : int {1, 2, 3, 4, 5, 6}\n",
    "            Contraint type to add to model. See above for explanation.\n",
    "            Default is None.\n",
    "        \"\"\"\n",
    "        # 1 - set covering constraints\n",
    "        if constr == 1:\n",
    "            for i in self.r_cli:\n",
    "                self.model.Add(self.model.Sum([self.aij[i,j]\\\n",
    "                                               * self.fac_vars[j]\\\n",
    "                                               for j in self.r_fac]) >= 1)\n",
    "        # 2 - assignment constraints\n",
    "        elif constr == 2:\n",
    "            for i in self.r_cli:\n",
    "                self.model.Add(self.model.Sum([self.cli_vars[i,j]\\\n",
    "                                               for j in self.r_fac]) == 1)\n",
    "        # 3 - facility constraint\n",
    "        elif constr == 3:\n",
    "            self.model.Add(self.model.Sum([self.fac_vars[j]\\\n",
    "                                           for j in self.r_fac]) == self.p)\n",
    "        # 4 - opening constraints\n",
    "        elif constr == 4:\n",
    "            for i in  self.r_cli:\n",
    "                for j in  self.r_fac:\n",
    "                     self.model.Add(self.fac_vars[j]\\\n",
    "                                    - self.cli_vars[i,j] >= 0)\n",
    "        # 5 - minimax constraints\n",
    "        elif constr == 5:\n",
    "            for i in self.r_cli:\n",
    "                self.model.Add(self.model.Sum([self.cij[i,j]\\\n",
    "                                               * self.cli_vars[i,j]\\\n",
    "                                               for j in self.r_fac])\\\n",
    "                                               <= self.W)\n",
    "        # 6 - max coverage constraints\n",
    "        elif constr == 6:\n",
    "            for i in self.r_cli:\n",
    "                self.model.Add(self.model.Sum([self.aij[i,j]\\\n",
    "                                               * self.fac_vars[j]\\\n",
    "                                               for j in self.r_fac])\\\n",
    "                                               >= self.cli_vars[i])\n",
    "    \n",
    "    \n",
    "    def add_obj(self):\n",
    "        \"\"\" Add an objective function to a model.\n",
    "        \"\"\"\n",
    "        if self.name == 'lscp':\n",
    "            self.model.Minimize(self.model.Sum([self.fac_vars[j]\\\n",
    "                                            for j in self.r_fac]))\n",
    "        \n",
    "        elif self.name == 'pmp':\n",
    "            obj = [self.sij[i,j] * self.cli_vars[i,j]\\\n",
    "                   for i in self.r_cli for j in self.r_fac]\n",
    "            self.model.Minimize(self.model.Sum(obj))\n",
    "        \n",
    "        elif self.name == 'pcp':\n",
    "            self.model.Minimize(self.W)\n",
    "        \n",
    "        elif self.name == 'mclp':\n",
    "            obj = [self.ai.flatten()[i]\\\n",
    "                   * self.cli_vars[i] for i in self.r_cli]\n",
    "            self.model.Maximize(self.model.Sum(obj))\n",
    "    \n",
    "    \n",
    "    def optimize(self, write_lp=False):\n",
    "        \"\"\" Solve the model.\n",
    "        Parameters\n",
    "        ----------\n",
    "        write_lp : bool\n",
    "            write out the linear programming formulation\n",
    "        \"\"\"\n",
    "        def _redirect_to_file(self, text):\n",
    "            \"\"\" Write out the model in linear programming format.\n",
    "            Parameters\n",
    "            ----------\n",
    "            text : str\n",
    "                full lp formulation in str format\n",
    "            \"\"\"\n",
    "            original = sys.stdout\n",
    "            sys.stdout = open(self.name+'.lp', 'w')\n",
    "            print(text)\n",
    "            sys.stdout = original\n",
    "        self.model.Solve()\n",
    "        # linear programming formulation\n",
    "        if write_lp:\n",
    "            self.lp_formulation = self.model.ExportModelAsLpFormat(True)\n",
    "            self._redirect_to_file(self.lp_formulation)\n",
    "        # WallTime() in milliseconds\n",
    "        self.solve_minutes = self.model.WallTime() * 1.66667e-5\n",
    "        self.obj_val = self.model.Objective().Value()\n",
    "    \n",
    "    \n",
    "    def record_decisions(self):\n",
    "        \"\"\"record decision variable relationship\n",
    "        folowing optimization.\n",
    "        \"\"\"\n",
    "        # facility-to-dataframe index location lookup\n",
    "        self.fac2iloc = {v.name():k for k,v in self.fac_vars.items()}\n",
    "        # client-to-dataframe index location lookup\n",
    "        self.cli2iloc = {}\n",
    "        # facility-to-client lookup\n",
    "        self.fac2cli = {}\n",
    "        \n",
    "        # record client/service relationships\n",
    "        for j in self.r_fac:\n",
    "            if self.fac_vars[j].solution_value() > 0:\n",
    "                jvar = self.fac_vars[j].name()\n",
    "                self.fac2cli[jvar] = []\n",
    "                for i in self.r_cli:\n",
    "                    ivar = None\n",
    "                    if self.name == 'lscp':\n",
    "                        if self.aij[i,j] > 0:\n",
    "                            ivar = 'x[%i]' % i\n",
    "                            self.fac2cli[jvar].append(ivar)\n",
    "                    elif self.name == 'mclp':\n",
    "                        if self.cli_vars[i].solution_value() > 0:\n",
    "                            if self.aij[i,j] > 0:\n",
    "                                ivar = self.cli_vars[i].name()\n",
    "                                self.fac2cli[jvar].append(ivar)\n",
    "                    else:\n",
    "                        if self.cli_vars[i,j].solution_value() > 0: \n",
    "                            ivar = self.cli_vars[i,j].name()\n",
    "                            ivar = ivar.split(\",\")[0]+']'\n",
    "                            self.fac2cli[jvar].append(ivar)\n",
    "                    if ivar:\n",
    "                        self.cli2iloc[ivar] = i  \n",
    "        \n",
    "        # client-to-facility lookup\n",
    "        self.cli2fac = {}\n",
    "        for cv in list(self.cli2iloc.keys()):\n",
    "            self.cli2fac[cv] = []\n",
    "            for k,v in self.fac2cli.items():\n",
    "                if cv in v:\n",
    "                    self.cli2fac[cv].append(k)\n",
    "    \n",
    "        # count of uncovered clients\n",
    "        self.n_cli_uncov = self.n_cli - len(self.cli2iloc.keys())\n",
    "        \n",
    "        # clients of clients covered by n facilities\n",
    "        if self.name == \"lscp\" or self.name == \"mclp\":\n",
    "            self.cli2ncov = {}\n",
    "            for c, fs in self.cli2fac.items():\n",
    "                self.cli2ncov[c] = len(fs)\n",
    "            most_coverage = max(self.cli2ncov.values())\n",
    "            self.ncov2ncli = {}\n",
    "            for cov_count in range(most_coverage+1):\n",
    "                if cov_count == 0:\n",
    "                    self.ncov2ncli[cov_count] = self.n_cli_uncov\n",
    "                    continue\n",
    "                if not cov_count in list(self.cli2ncov.keys()):\n",
    "                    self.ncov2ncli[cov_count] = 0\n",
    "                for c, ncov in self.cli2ncov.items():\n",
    "                    if ncov >= cov_count:\n",
    "                        self.ncov2ncli[cov_count] += 1    \n",
    "    \n",
    "    \n",
    "    def non_obj_vals(self):\n",
    "        \"\"\"\n",
    "        \"\"\"\n",
    "        if self.name == \"pmp\":\n",
    "            self.mean_dist = self.obj_val/float(self.ai_sum)\n",
    "                                \n",
    "        if self.name == \"mclp\":\n",
    "            self.perc_served = (self.obj_val/float(self.ai_sum))\\\n",
    "                                * 100.\n",
    "    \n",
    "    \n",
    "    def print_results(self):\n",
    "        \"\"\"print select results\n",
    "        \"\"\"\n",
    "        print('Solve Time:', self.solve_minutes, 'minutes')\n",
    "        \n",
    "        # solve time and objective value\n",
    "        if self.name == 'lscp':\n",
    "            u1 = 'facilities needed for total coverage within a '\n",
    "            u2 = '%f meter service radius' % self.s\n",
    "        if self.name == 'pmp':\n",
    "            u1 = 'total weighted distance with '\n",
    "            u2 = '%i selected facilities' % self.p\n",
    "        if self.name == 'pcp':\n",
    "            u1 = 'worst case distance with '\n",
    "            u2 = '%i selected facilities' % self.p\n",
    "        if self.name == 'mclp':\n",
    "            u1 = 'residents within %f meters of '% self.s\n",
    "            u2 = '%i selected facilities' % self.p\n",
    "        units = u1 + u2    \n",
    "\n",
    "        print('Obj. Value:', self.obj_val, units)\n",
    "        \n",
    "        if self.name == 'pmp':\n",
    "            print('Mean weighted distance per',\n",
    "                  'person: %f' % self.mean_dist)\n",
    "        if self.name == 'mclp':\n",
    "            print('Percent of %i' % self.ai_sum,\n",
    "                  'clients covered: %f' % self.perc_served)\n",
    "            \n",
    "        # coverage values\n",
    "        if self.name == \"lscp\" or self.name == \"mclp\":\n",
    "            for ncov, ncli in self.ncov2ncli.items():\n",
    "                if ncov == 0:\n",
    "                    print('--- %i clients are not covered' % ncli)\n",
    "                else:\n",
    "                    if ncov == 1:\n",
    "                        sp = 'y'\n",
    "                    else:\n",
    "                        sp = 'ies'\n",
    "                    print('--- %i clients are covered' % ncli,\n",
    "                          'by %i' % ncov, 'facilit'+sp)             "
   ]
  },
  {
   "cell_type": "code",
   "execution_count": null,
   "metadata": {
    "ExecuteTime": {
     "end_time": "2019-05-14T00:34:02.962102Z",
     "start_time": "2019-05-14T00:34:02.951193Z"
    }
   },
   "outputs": [],
   "source": [
    "def add_results(model, cli_df, fac_df, print_solution=False):\n",
    "    \"\"\"Add decision variable relationships to a dataframe.\n",
    "    Parameters\n",
    "    ----------\n",
    "    model : ortools.linear_solver.pywraplp.Solver\n",
    "        proxy of <Swig Object of type 'operations_research::MPSolver *'\n",
    "    cli_df : geopandas.GeoDataFrame\n",
    "        GeoDataFrame of client locations\n",
    "    fac_df : geopandas.GeoDataFrame\n",
    "        GeoDataFrame of facility locations\n",
    "    print_solution : bool\n",
    "        print out solution decision variables. Default is False.\n",
    "    Returns\n",
    "    -------\n",
    "    cli_df : geopandas.GeoDataFrame\n",
    "        updated client locations\n",
    "    fac_df : geopandas.GeoDataFrame\n",
    "        updated facility locations\n",
    "    \"\"\"\n",
    "    col_name = model.name + '_sol'\n",
    "    fillers = [[cli_df, 'cli2fac'], [fac_df, 'fac2cli']]\n",
    "    for df, attr in fillers:\n",
    "        df[col_name] = df['dv'].map(getattr(model, attr))\n",
    "        df[col_name].fillna(\"closed\", inplace=True)\n",
    "    if print_solution:\n",
    "        selected = fac_df[fac_df[col_name] != \"closed\"]\n",
    "        for idx in selected.index:\n",
    "            print(\"\")\n",
    "            print(selected.loc[idx, \"dv\"], 'serving:',\n",
    "                  selected.loc[idx, col_name])\n",
    "    return cli_df, fac_df"
   ]
  },
  {
   "cell_type": "code",
   "execution_count": null,
   "metadata": {
    "ExecuteTime": {
     "end_time": "2019-05-14T00:34:02.991939Z",
     "start_time": "2019-05-14T00:34:02.964863Z"
    }
   },
   "outputs": [],
   "source": [
    "def plotter(fig=None, base=None, plot_aux=None, buffered=None, model=None,\n",
    "            pt1_size=None, pt2_size=None, plot_res=None, save_fig=False,\n",
    "            title=None, figsize=(10,10)):\n",
    "    \"\"\" Top-level scenario plotter for location analytics. \n",
    "    Parameters\n",
    "    ----------\n",
    "    fig : matplotlib.figure.Figure\n",
    "        complete figure to plot. Default is None.\n",
    "    base : matplotlib.axes._subplots.AxesSubplot\n",
    "        individual axis to plot. Default is None.\n",
    "    plot_aux : dict\n",
    "        model data parameters dataframes to plot keyed by\n",
    "        descriptive names. Default is None.\n",
    "    plot_res : dict\n",
    "        model data results dataframes to plot keyed by\n",
    "        descriptive names. Default is None.\n",
    "    buffered : see\n",
    "        buffer distance from roads segments in `plot_base`.\n",
    "        Default is None.\n",
    "    pt1_size : float or float\n",
    "        size of points to plot. `pt1_size` should always be the\n",
    "        larger between `pt2_size` and `pt1_size`. Default is None.\n",
    "    pt2_size : float or float\n",
    "        size of points to plot. Default is None.\n",
    "    model : ortools.linear_solver.pywraplp.Solver\n",
    "        proxy of <Swig Object of type 'operations_research::MPSolver *'    \n",
    "    title : str\n",
    "        plot title. Default is None.\n",
    "    figsize : tuple\n",
    "        Figure size for plot. Default is (12,12).\n",
    "    save_fig : bool\n",
    "        Default is False.\n",
    "    Returns\n",
    "    -------\n",
    "    add_to_legend : list\n",
    "        items to add to legend \n",
    "    \"\"\"\n",
    "    for_multiplot = True\n",
    "    if not fig and not base:\n",
    "        for_multiplot = False\n",
    "        fig, base = plt.subplots(1, 1, figsize=figsize)\n",
    "    \n",
    "    # add title\n",
    "    if not for_multiplot:\n",
    "        if model:\n",
    "            title += ' - ' + model.name\n",
    "        base.set_title(title, size=20)   \n",
    "    else:\n",
    "        base.set_title(model.name, size=20)\n",
    "    \n",
    "    # plot non-results data\n",
    "    if plot_aux:\n",
    "        for k, df in plot_aux.items():\n",
    "            if k == 'streets':\n",
    "                df.plot(ax=base, lw=2, color='k', zorder=1)\n",
    "            if k == 'buffer':\n",
    "                df.plot(ax=base, color='y', lw=.25, alpha=.25, zorder=1)\n",
    "            if k == 'cli_tru':    \n",
    "                if plot_res:\n",
    "                    df = df[df[model.name+'_sol'] == 'closed']\n",
    "                    psize = pt2_size/6.\n",
    "                    pcolor = 'k'\n",
    "                else:   \n",
    "                    n_cli = df.shape[0]\n",
    "                    psize = pt1_size\n",
    "                    pcolor = 'r'\n",
    "                df.plot(ax=base, markersize=psize,\n",
    "                        edgecolor='k', color=pcolor)\n",
    "            if k == 'fac_tru':\n",
    "                if plot_res:\n",
    "                    df = df[df[model.name+'_sol'] == 'closed']\n",
    "                    psize = pt2_size\n",
    "                    pcolor = 'k'\n",
    "                    pmarker = '*'\n",
    "                else:   \n",
    "                    n_cli = df.shape[0]\n",
    "                    psize = pt1_size\n",
    "                    pcolor = 'b'\n",
    "                    pmarker = 'o'\n",
    "                df.plot(ax=base, markersize=psize,\n",
    "                        edgecolor='k', color=pcolor,\n",
    "                        marker=pmarker)\n",
    "                n_fac = df.shape[0]\n",
    "            if k == 'cli_snp':\n",
    "                df.plot(ax=base, markersize=pt2_size,\n",
    "                        edgecolor='k', color='r', alpha=.75)\n",
    "            if k == 'fac_snp':\n",
    "                df.plot(ax=base, markersize=pt2_size,\n",
    "                        edgecolor='k', color='b', alpha=.75)\n",
    "        add_to_legend = list(plot_aux.keys())\n",
    "    else:\n",
    "        add_to_legend = None\n",
    "    \n",
    "    # plot results data\n",
    "    if plot_res:\n",
    "        dv_colors = dv_colorset(plot_res['fac_var'].dv)\n",
    "        # facilities\n",
    "        df = plot_res['fac_var'][plot_res['fac_var']\\\n",
    "                                [model.name+'_sol'] != 'closed']\n",
    "        alpha = 1./float(len(df.dv)-2)\n",
    "        if alpha > .5:\n",
    "            alpha = .5\n",
    "        # decision variable info for legend\n",
    "        dvs_to_leg = {}\n",
    "        # plot facilities\n",
    "        for dv in df.dv:\n",
    "            fac = df[df.dv == dv]\n",
    "            fac.plot(ax=base, marker='*', markersize=pt1_size*3.,\n",
    "                     alpha=.8, zorder=3, edgecolor='k',\n",
    "                     color=dv_colors[dv])\n",
    "            # update decision variable info with set color\n",
    "            dvs_to_leg[dv] = {'color':dv_colors[dv]}\n",
    "        # plot clients & service areas\n",
    "        for f, c in model.fac2cli.items():\n",
    "            fc = plot_res['cli_var'][plot_res['cli_var'].dv.isin(c)]\n",
    "            fc.plot(ax=base, markersize=50, edgecolor='k',\n",
    "                    color=dv_colors[f], alpha=alpha, zorder=2)\n",
    "            # update decision variable info with set client counts\n",
    "            dvs_to_leg[f].update({'clients': fc.shape[0]})\n",
    "            # create service area polygon\n",
    "            service_area = concave_hull(df, fc, f)\n",
    "            service_area.plot(ax=base, edgecolor='k', alpha=.2,\n",
    "                              color=dv_colors[f], zorder=1)       \n",
    "    else:\n",
    "        dvs_to_leg = None\n",
    "    \n",
    "    if not model:\n",
    "        class _ShellModel:\n",
    "            \"\"\"object to mimic `model` when not present\n",
    "            \"\"\"\n",
    "            def __init__(self, plot_aux):\n",
    "                try:\n",
    "                    self.n_cli = plot_aux['cli_tru'].shape[0]\n",
    "                    try:\n",
    "                        self.n_fac = plot_aux['fac_tru'].shape[0]\n",
    "                    except KeyError:\n",
    "                        pass\n",
    "                except KeyError:\n",
    "                        pass\n",
    "        try:\n",
    "            model = _ShellModel(plot_aux)\n",
    "        except (TypeError, KeyError):\n",
    "            model = None\n",
    "    \n",
    "    if not for_multiplot:\n",
    "        # create legend patches\n",
    "        patches = create_patches(model=model, for_multiplot=for_multiplot,\n",
    "                                 pt1_size=pt1_size, pt2_size=pt2_size,\n",
    "                                 buffered=buffered, legend_aux=add_to_legend,\n",
    "                                 dvs_to_leg=dvs_to_leg)\n",
    "        add_legend(patches, for_multiplot=for_multiplot)\n",
    "    add_north_arrow(base)\n",
    "    add_scale(base)\n",
    "    \n",
    "    if save_fig:\n",
    "        plt.savefig(model.name+'.png')\n",
    "    \n",
    "    # if for a multiplot explicityly return items to add to legend\n",
    "    if for_multiplot:\n",
    "        return add_to_legend"
   ]
  },
  {
   "cell_type": "code",
   "execution_count": null,
   "metadata": {
    "ExecuteTime": {
     "end_time": "2019-05-14T00:34:03.008178Z",
     "start_time": "2019-05-14T00:34:02.995801Z"
    }
   },
   "outputs": [],
   "source": [
    "def multi_plotter(models, plot_aux=None, plot_res=None, select=None,\n",
    "                  title=None, figsize=(14,14), shape=(2,2)):\n",
    "    \"\"\"plot multiple base axes as one figure\n",
    "    Parameters\n",
    "    ----------\n",
    "    models : list\n",
    "        solved model objects\n",
    "    select : dict\n",
    "        facility-to-selection count lookup.\n",
    "    shape : tuple\n",
    "        dimension for subplot array. Default is (2,2).s\n",
    "    plot_aux : see plotter()\n",
    "    plot_res : see plotter()\n",
    "    title : see plotter()\n",
    "    figsize : see plotter()\n",
    "    \"\"\"\n",
    "    pt1_size, pt2_size = 300, 60\n",
    "    # convert list of models to array \n",
    "    mdls = np.array(models).reshape(shape)\n",
    "    fig, axarr = plt.subplots(mdls.shape[0], mdls.shape[1],\n",
    "                              figsize=figsize,\n",
    "                                      sharex='col',\n",
    "                                      sharey='row')\n",
    "    # add super title to subplot array\n",
    "    plt.suptitle(title, fontsize=30)\n",
    "    fig.subplots_adjust(hspace=0.1, wspace=0.005, top=.925)\n",
    "    # create each subplot\n",
    "    for i in range(mdls.shape[0]):\n",
    "        for j in range(mdls.shape[1]):\n",
    "            add_to_legend = plotter(base=axarr[i,j],\n",
    "                                    plot_aux=plot_aux,\n",
    "                                    plot_res=plot_res,\n",
    "                                    model=mdls[i,j],\n",
    "                                    pt1_size=pt1_size,\n",
    "                                    pt2_size=pt2_size)\n",
    "            axarr[i,j].set_aspect('equal')\n",
    "    add_to_legend = set(add_to_legend)            \n",
    "    # decision variable color set\n",
    "    dv_colors = dv_colorset(plot_res['fac_var'].dv)\n",
    "    dvs_to_leg = {f: dv_colors[f] for m in models\\\n",
    "                                  for f in m.fac2cli.keys()}\n",
    "    # set ordered dict of {iloc:fac_var, color, x-selected}\n",
    "    # *** models[0] can be any of the solved models\n",
    "    dvs_to_leg = {models[0].fac2iloc[k]:(k,v, select[k])\\\n",
    "                  for k, v in dvs_to_leg.items()}\n",
    "    dvs_to_leg = OrderedDict(sorted(dvs_to_leg.items()))\n",
    "    # create legend patches\n",
    "    patches = create_patches(model=None,\n",
    "                             pt1_size=pt1_size, pt2_size=pt2_size,\n",
    "                             legend_aux=add_to_legend,\n",
    "                             dvs_to_leg=dvs_to_leg,\n",
    "                             for_multiplot=True)\n",
    "    add_legend(patches, for_multiplot=True)"
   ]
  },
  {
   "cell_type": "code",
   "execution_count": null,
   "metadata": {
    "ExecuteTime": {
     "end_time": "2019-05-14T00:34:03.024163Z",
     "start_time": "2019-05-14T00:34:03.013200Z"
    }
   },
   "outputs": [],
   "source": [
    "def add_north_arrow(base):\n",
    "    \"\"\"add a north arrow to an axes\n",
    "    Parameters\n",
    "    ----------\n",
    "    base : see plotter()\n",
    "    \"\"\"\n",
    "    arw = 'rarrow, pad=0.25'\n",
    "    bbox_props = dict(boxstyle=arw, fc='w', ec='k', lw=2, alpha=.75)\n",
    "    base.text(221200, 267200, '      z    ', bbox=bbox_props,\n",
    "             fontsize='large',fontweight='heavy',\n",
    "             ha='center', va='center', rotation=90)"
   ]
  },
  {
   "cell_type": "code",
   "execution_count": null,
   "metadata": {
    "ExecuteTime": {
     "end_time": "2019-05-14T00:34:03.038529Z",
     "start_time": "2019-05-14T00:34:03.030100Z"
    }
   },
   "outputs": [],
   "source": [
    "def add_scale(base):\n",
    "    \"\"\"add a scale arrow to an axes\n",
    "    Parameters\n",
    "    ----------\n",
    "    base : see plotter()\n",
    "    \"\"\"\n",
    "    bbox_props = dict(boxstyle='round, pad=.5',\n",
    "                      fc='w', ec='0.5', alpha=0.7)\n",
    "    base.text(base.get_xlim()[0]+75, base.get_ylim()[0]+75,\n",
    "              '|  ~.25km~  |', fontstyle='italic',\n",
    "              bbox=bbox_props)"
   ]
  },
  {
   "cell_type": "code",
   "execution_count": null,
   "metadata": {
    "ExecuteTime": {
     "end_time": "2019-05-14T00:34:03.068801Z",
     "start_time": "2019-05-14T00:34:03.042853Z"
    }
   },
   "outputs": [],
   "source": [
    "def create_patches(model=None, pt1_size=None, pt2_size=None,\n",
    "                   buffered=None, legend_aux=None, dvs_to_leg=None,\n",
    "                   for_multiplot=False):\n",
    "    \"\"\"create all patches to add to the legend.\n",
    "    Parameters\n",
    "    ----------\n",
    "    for_multiplot : bool\n",
    "        for a single plot (True), or multiplot (False).\n",
    "        Default is False.\n",
    "    model : see plotter()\n",
    "    pt1_size : see plotter()\n",
    "    pt2_size : see plotter()\n",
    "    buffered : see plotter()\n",
    "    legend_aux : see plotter()\n",
    "    dvs_to_leg : see plotter()\n",
    "    Returns\n",
    "    -------\n",
    "    patches : list\n",
    "        legend handles matching plotted items\n",
    "    \"\"\"\n",
    "    if pt1_size:\n",
    "        ms1 = float(pt1_size)/6.\n",
    "    if pt2_size:\n",
    "        ms2 = float(pt2_size)/8.\n",
    "    \n",
    "    spacer = mpatches.Patch([], [], color='w', linewidth=0,\n",
    "                            alpha=.0, label='')\n",
    "    # all patches to add to legend\n",
    "    patches = []\n",
    "    # streets -- always plot\n",
    "    strs = mlines.Line2D([], [], color='k', linewidth=2,\n",
    "                         alpha=1, label='Streets')\n",
    "    patches.extend([spacer, strs])\n",
    "    # non-results data\n",
    "    if legend_aux:\n",
    "        if 'buffer' in legend_aux:\n",
    "            label = 'Street buffer (%sm)' % buffered\n",
    "            strbuff = mpatches.Patch([], [], color='y', linewidth=2,\n",
    "                                     alpha=.5, label=label)\n",
    "            patches.extend([spacer, strbuff])\n",
    "        if 'cli_tru' in legend_aux:\n",
    "            try:\n",
    "                if dvs_to_leg:\n",
    "                    pcolor = 'k'\n",
    "                    msize = ms2/3.\n",
    "                    plabel = 'Uncovered Households '\\\n",
    "                             + '($n$=%i)' % model.n_cli_uncov\n",
    "                else:\n",
    "                    pcolor = 'r'\n",
    "                    msize = ms1\n",
    "                    plabel = 'Households ($n$=%i)' % model.n_cli\n",
    "                cli_tru = mlines.Line2D([], [], color=pcolor,\n",
    "                                        marker='o', ms=msize,\n",
    "                                        linewidth=0, alpha=1,\n",
    "                                        markeredgecolor='k',\n",
    "                                        label=plabel)\n",
    "                patches.extend([spacer, cli_tru])\n",
    "            except AttributeError:\n",
    "                pass\n",
    "        if 'fac_tru' in legend_aux:\n",
    "            if dvs_to_leg:\n",
    "                pcolor = 'k'\n",
    "                msize = ms2\n",
    "                pmarker = '*'\n",
    "                no_fac = model.n_fac - len(list(model.fac2cli.keys()))\n",
    "                plabel = 'Unselected Facilities ($n$=%i)' % no_fac\n",
    "            else:\n",
    "                pcolor = 'b'\n",
    "                msize = ms1\n",
    "                pmarker = 'o'\n",
    "                plabel = 'Little Free Library candidates'\\\n",
    "                         + '($n$=%i)' % model.n_fac\n",
    "            fac_tru = mlines.Line2D([], [], color=pcolor,\n",
    "                                    marker=pmarker, ms=msize,\n",
    "                                    markeredgecolor='k',\n",
    "                                    linewidth=0, alpha=1,\n",
    "                                    label=plabel)\n",
    "            patches.extend([spacer, fac_tru])\n",
    "        if 'cli_snp' in legend_aux:\n",
    "            label = 'Households snapped to network'\n",
    "            cli_snp = mlines.Line2D([], [], color='r', marker='o',\n",
    "                                    ms=ms2, linewidth=0, alpha=1,\n",
    "                                    markeredgecolor='k', label=label)\n",
    "            patches.extend([spacer, cli_snp])\n",
    "        if 'fac_snp' in legend_aux:\n",
    "            label = 'LFL candidates snapped to network'\n",
    "            fac_snp = mlines.Line2D([], [], color='b', marker='o',\n",
    "                                    ms=ms2, markeredgecolor='k',\n",
    "                                    linewidth=0, alpha=1,\n",
    "                                    label=label)   \n",
    "            patches.extend([spacer, fac_snp])\n",
    "    patches.extend([spacer])\n",
    "    # results data for single plot\n",
    "    if dvs_to_leg and not for_multiplot:\n",
    "        # add facility, client, and service area patches to legend\n",
    "        for k, v in dvs_to_leg.items():\n",
    "            fdv_label = 'Little Free Library %s' % k\n",
    "            fdv = mlines.Line2D([], [], color=v['color'], marker='*',\n",
    "                                ms=ms1/2., markeredgecolor='k',\n",
    "                                linewidth=0, alpha=.8, label=fdv_label)\n",
    "            cdv_label = 'Households served by %s ' % k \\\n",
    "                        + '($n$=%i)' % v['clients']\n",
    "            cdv = mlines.Line2D([], [], color=v['color'], marker='o',\n",
    "                                ms=ms1/6., markeredgecolor='k',\n",
    "                                linewidth=0, alpha=.5, label=cdv_label)\n",
    "            serv_label = '%s service area' % k\n",
    "            serv = mpatches.Patch([], [], color=v['color'], linewidth=2,\n",
    "                                  alpha=.25, label=serv_label)\n",
    "            patches.extend([spacer, fdv, cdv, serv, spacer])\n",
    "    # results data for multiplot    \n",
    "    if dvs_to_leg and for_multiplot:\n",
    "        for idx, (k, v, n) in dvs_to_leg.items():\n",
    "            fdv = mlines.Line2D([], [], color=v, marker='*', ms=ms1/2,\n",
    "                                markeredgecolor='k', linewidth=0,\n",
    "                                alpha=.8, label='%s ($n$=%i)' % (k,n))\n",
    "            patches.extend([spacer, fdv, spacer])\n",
    "    return patches"
   ]
  },
  {
   "cell_type": "code",
   "execution_count": null,
   "metadata": {
    "ExecuteTime": {
     "end_time": "2019-05-14T00:34:03.076969Z",
     "start_time": "2019-05-14T00:34:03.071221Z"
    }
   },
   "outputs": [],
   "source": [
    "def add_legend(patches, for_multiplot=False):\n",
    "    \"\"\"Add a legend to a plot\n",
    "    Parameters\n",
    "    ----------\n",
    "    patches : list\n",
    "        legend handles matching plotted items\n",
    "    for_multiplot : create_patches \n",
    "    \"\"\"\n",
    "    if for_multiplot:\n",
    "        anchor = (1.1, 1.65)\n",
    "    else:\n",
    "        anchor = (1.005, 1.016)\n",
    "    legend = plt.legend(handles=patches, loc='upper left',\n",
    "                        fancybox=True, framealpha=.85,\n",
    "                        bbox_to_anchor=anchor, fontsize='x-large')\n",
    "    legend.get_frame().set_facecolor('white')"
   ]
  },
  {
   "cell_type": "code",
   "execution_count": null,
   "metadata": {
    "ExecuteTime": {
     "end_time": "2019-05-14T00:34:03.086985Z",
     "start_time": "2019-05-14T00:34:03.080356Z"
    }
   },
   "outputs": [],
   "source": [
    "def dv_colorset(dvs):\n",
    "    \"\"\"decision variables color set\n",
    "    Parameters\n",
    "    ---------\n",
    "    dvs : geopandas.GeoSeries\n",
    "        facility decision variables\n",
    "    Returns\n",
    "    -------\n",
    "    dv_colors : dict\n",
    "        decision variable to set color lookup\n",
    "    \"\"\"\n",
    "    dv_colors = ['fuchsia', 'mediumseagreen', 'blueviolet',\n",
    "                 'darkslategray', 'lightskyblue', 'saddlebrown',\n",
    "                 'cyan', 'darkgoldenrod', 'limegreen', 'peachpuff',\n",
    "                 'coral', 'mediumvioletred', 'darkcyan',\n",
    "                 'thistle', 'lavender']\n",
    "    dv_colors = {dv:dv_colors[idx] for idx, dv\\\n",
    "                 in enumerate(dvs)}\n",
    "    return dv_colors"
   ]
  },
  {
   "cell_type": "code",
   "execution_count": null,
   "metadata": {
    "ExecuteTime": {
     "end_time": "2019-05-14T00:34:03.098603Z",
     "start_time": "2019-05-14T00:34:03.091343Z"
    }
   },
   "outputs": [],
   "source": [
    "def get_buffer(in_data, buff=50):\n",
    "    \"\"\" geopandas.GeoDataFrame should be in a meters projection.\n",
    "    Parameters\n",
    "    ----------\n",
    "    in_data : geopandas.GeoDataFrame\n",
    "        GeoDataFrame of a shapefile representing a road network.\n",
    "    buff : int or float\n",
    "        Desired buffer distance. Default is 50 (meters). \n",
    "    Returns\n",
    "    =======\n",
    "    out_data : geopandas.GeoDataFrame\n",
    "        Single polygon of the unioned street buffers.\n",
    "    \"\"\"\n",
    "    b1 = in_data.buffer(buff)  #Buffer\n",
    "    ub = b1.unary_union  #Buffer Union\n",
    "    b2 = gpd.GeoSeries(ub)\n",
    "    out_data = gpd.GeoDataFrame(b2, crs=in_data.crs,\n",
    "                                columns=['geometry'])\n",
    "    return out_data"
   ]
  },
  {
   "cell_type": "code",
   "execution_count": null,
   "metadata": {
    "ExecuteTime": {
     "end_time": "2019-05-14T00:34:03.109677Z",
     "start_time": "2019-05-14T00:34:03.102957Z"
    }
   },
   "outputs": [],
   "source": [
    "def concave_hull(fac_df, cli_df, f, smoother=10):\n",
    "    \"\"\"Create `pysal.lib.cg.alpha_shape_auto()` object\n",
    "    for service area representation.\n",
    "    Parameters\n",
    "    ----------\n",
    "    fac_df : geopandas.GeoDataFrame\n",
    "        GeoDataFrame of facility locations.\n",
    "    cli_df : geopandas.GeoDataFrame\n",
    "        GeoDataFrame of client locations.\n",
    "    f : str\n",
    "        facility decision variable name.\n",
    "    smoother : float or int\n",
    "        buffer (meters). Default is 10.\n",
    "    Returns\n",
    "    -------\n",
    "    ccv :  geopandas.GeoDataFrame\n",
    "        polygon representing facility service area\n",
    "    \"\"\"\n",
    "    # client location coordinates\n",
    "    c_array = np.array(cli_df.geometry.apply(lambda pt:\n",
    "                     [pt.x, pt.y]).squeeze().tolist())\n",
    "    # facility location coordinates\n",
    "    f_array = np.array(fac_df[fac_df.dv==f].geometry.apply(\\\n",
    "                     lambda pt: [pt.x, pt.y]).squeeze())\n",
    "    # coordinates of all location in the set\n",
    "    pts_array = np.vstack((c_array, f_array))\n",
    "    # create alpha shape (concave hull)\n",
    "    ccv = cg.alpha_shape_auto(pts_array, step=4)\n",
    "    ccv = gpd.GeoDataFrame([ccv.buffer(smoother)],\n",
    "                           columns=[\"geometry\"])\n",
    "    return ccv"
   ]
  },
  {
   "cell_type": "code",
   "execution_count": null,
   "metadata": {
    "ExecuteTime": {
     "end_time": "2019-05-14T00:34:03.125945Z",
     "start_time": "2019-05-14T00:34:03.117092Z"
    }
   },
   "outputs": [],
   "source": [
    "def simulated_geo_points(in_data, needed=20, seed=0, to_file=None):\n",
    "    \"\"\"Generate synthetic spatial data points within an area.s\n",
    "    Parameters\n",
    "    ----------\n",
    "    in_data : geopandas.GeoDataFrame\n",
    "        A single polygon of the unioned street buffers.\n",
    "    needed : int\n",
    "        Number of points in the buffer. Default is 20.\n",
    "    seed : int\n",
    "        Seed for pseudo-random number generation. Default is 0.\n",
    "    to_file : str\n",
    "        File name for write out.\n",
    "    Returns\n",
    "    -------\n",
    "    sim_pts : geopandas.GeoDataFrame\n",
    "        Points within the buffer.\n",
    "    \"\"\"\n",
    "    geoms = in_data.geometry\n",
    "    area = tuple(in_data.total_bounds)\n",
    "    simulated_points_list = []\n",
    "    simulated_points_all = False\n",
    "    np.random.seed(seed)\n",
    "    while simulated_points_all == False:\n",
    "        x = np.random.uniform(area[0], area[2], 1)\n",
    "        y = np.random.uniform(area[1], area[3], 1)  \n",
    "        point = Point(x,y)\n",
    "        if geoms.intersects(point)[0]:\n",
    "            simulated_points_list.append(point)\n",
    "        if len(simulated_points_list) == needed:\n",
    "            simulated_points_all = True\n",
    "    sim_pts = gpd.GeoDataFrame(simulated_points_list,\n",
    "                               columns=['geometry'],\n",
    "                               crs=in_data.crs)\n",
    "    if to_file:\n",
    "        sim_pts.to_file(to_file+\".shp\")\n",
    "    return sim_pts"
   ]
  },
  {
   "cell_type": "code",
   "execution_count": null,
   "metadata": {
    "ExecuteTime": {
     "end_time": "2019-05-14T00:34:03.138477Z",
     "start_time": "2019-05-14T00:34:03.130015Z"
    }
   },
   "outputs": [],
   "source": [
    "def map_coords(df, col_name=None, coords=None):\n",
    "    \"\"\" map point coordinates dict to dataframe\n",
    "    and convert to shapely.geometry.Point objects\n",
    "    Parameters\n",
    "    ----------\n",
    "    df : geopandas.GeoDataFrame\n",
    "        service/client point locations\n",
    "    col_name : str\n",
    "        new column name to create\n",
    "    coords : dict\n",
    "        point coordinates snapped to the network.\n",
    "    Returns\n",
    "    -------\n",
    "    df : geopandas.GeoDataFrame\n",
    "        updated service/client point locations  \n",
    "    \"\"\"\n",
    "    df[col_name] = df.index.map(coords)\n",
    "    df[col_name] = df[col_name].apply(lambda x: Point(x))\n",
    "    return df"
   ]
  },
  {
   "cell_type": "code",
   "execution_count": null,
   "metadata": {
    "ExecuteTime": {
     "end_time": "2019-05-14T00:34:03.146685Z",
     "start_time": "2019-05-14T00:34:03.141445Z"
    }
   },
   "outputs": [],
   "source": [
    "def snapped_df(df, snap_col):\n",
    "    \"\"\"copy a true location dataframe and swap\n",
    "    out 'geometry' column for snapped points\n",
    "    Parameters\n",
    "    ----------\n",
    "    df : geopandas.GeoDataFrame\n",
    "        service/client point locations\n",
    "    snap_col : str\n",
    "        column name containing snapped point coordinates\n",
    "    Returns\n",
    "    -------\n",
    "    df : geopandas.GeoDataFrame\n",
    "        new service/client dataframe of snapped locations    \n",
    "    \"\"\"\n",
    "    df = df.copy()\n",
    "    df[\"tru_coords\"] = df.geometry\n",
    "    df.geometry = df[snap_col]\n",
    "    df.drop(snap_col, axis=1, inplace=True)\n",
    "    return df"
   ]
  },
  {
   "cell_type": "code",
   "execution_count": null,
   "metadata": {
    "ExecuteTime": {
     "end_time": "2019-05-14T00:34:03.168070Z",
     "start_time": "2019-05-14T00:34:03.153480Z"
    }
   },
   "outputs": [],
   "source": [
    "def analytics_matrix(mdls):\n",
    "    \"\"\"create stylized dataframe visualization of\n",
    "    distance analytics\n",
    "    Parameters\n",
    "    ----------\n",
    "    mdls : models\n",
    "        all modeling scenarios\n",
    "    Returns\n",
    "    -------\n",
    "    df : geopandas.GeoDataFrame\n",
    "        distance analytics matrix\n",
    "    style : pandas.io.formats.style.Styler\n",
    "        style dataframe view\n",
    "    \"\"\"\n",
    "    model_names = [m.name for m in mdls]\n",
    "    boiler =  ' to assigned facility'\n",
    "    stats = {'abs_min': 'Absolute min dist'+boiler,\n",
    "             'abs_max': 'Absolute max dist'+boiler,\n",
    "             'mean_means': 'Mean of mean dists per client'+boiler,\n",
    "             'mean_stds': 'Mean of StD dists per client'+boiler}\n",
    "    # instantiate dataframe\n",
    "    df = gpd.GeoDataFrame()\n",
    "    df['stats'] = list(stats.keys())\n",
    "    for n in model_names:\n",
    "        df[n] = np.nan\n",
    "    # calculate stat for each model\n",
    "    for m in mdls:\n",
    "        mins, maxs, stds, means = [], [], [], [] \n",
    "        for f, cs in m.fac2cli.items():\n",
    "            rows = np.array([m.cli2iloc[c] for c in cs])\n",
    "            col = np.array([m.fac2iloc[f]])\n",
    "            dists = m.cij[rows[:, None], col]\n",
    "            mins.append(dists.min()), maxs.append(dists.max()),\n",
    "            stds.append(dists.std()), means.append(dists.mean())\n",
    "        # fill cells\n",
    "        calcs = [np.array(mins).min(), np.array(maxs).max(),\n",
    "                 np.array(means).mean(), np.array(stds).mean()]\n",
    "        label_calc = {k: calcs[idx] for idx, k\\\n",
    "                                    in enumerate(list(stats.keys()))}\n",
    "        for k, v in label_calc.items():\n",
    "            df.loc[(df['stats'] == k), m.name] = v\n",
    "    # stylize\n",
    "    cm = sns.light_palette(\"green\", as_cmap=True, reverse=True)\n",
    "    style = df.style.set_caption(stats)\\\n",
    "                    .background_gradient(axis=1, cmap=cm,\n",
    "                                         subset=model_names)\n",
    "    return df, style"
   ]
  },
  {
   "cell_type": "code",
   "execution_count": null,
   "metadata": {
    "ExecuteTime": {
     "end_time": "2019-05-14T00:34:03.183189Z",
     "start_time": "2019-05-14T00:34:03.169936Z"
    }
   },
   "outputs": [],
   "source": [
    "def selection_matrix(mdls):\n",
    "    \"\"\"create stylized dataframe visualization of\n",
    "    selected decision variables\n",
    "    Parameters\n",
    "    ----------\n",
    "    mdls : models\n",
    "        all modeling scenarios\n",
    "    Returns\n",
    "    -------\n",
    "    df : geopandas.GeoDataFrame\n",
    "        variable selection matrix\n",
    "    style : pandas.io.formats.style.Styler\n",
    "        style dataframe view\n",
    "    \"\"\"\n",
    "    def _highlight_membership(s):\n",
    "        \"\"\"highlight set membership in pandas.DataFrame.\n",
    "        \"\"\"\n",
    "        return ['background-color: limegreen'\\\n",
    "                if v == '$\\in$' else '' for v in s]\n",
    "    \n",
    "    # set index and coluns in empty dataframe\n",
    "    var_index = [v.name() for k,v in models[0].fac_vars.items()]\n",
    "    df = gpd.GeoDataFrame(index=var_index,\n",
    "                          columns=[m.name for m in models])\n",
    "    # if site was selected in a model label with\n",
    "    # latex symbol for 'element of a set' ($\\in$)\n",
    "    for m in models:\n",
    "        for f in df.index:\n",
    "            if f in list(m.fac2cli.keys()):\n",
    "                df.loc[f, m.name] = '$\\in$'\n",
    "    # lable all other cells with latex ($\\\\notin$)\n",
    "    df.fillna('$\\\\notin$', inplace=True)\n",
    "    for idx in df.index:\n",
    "        sel = df.loc[idx][df.loc[idx] == '$\\in$'].shape[0]\n",
    "        df.loc[idx, '$\\sum$'] = sel\n",
    "        df.loc[idx, '$\\%$'] = (float(sel) / float(4)) * 100.\n",
    "    # stylize\n",
    "    cm = sns.light_palette(\"green\", as_cmap=True)\n",
    "    style = df.style.apply(_highlight_membership)\\\n",
    "                     .background_gradient(cmap=cm,\n",
    "                                          subset=['$\\sum$',\n",
    "                                                  '$\\%$'])\n",
    "    return df, style"
   ]
  },
  {
   "cell_type": "markdown",
   "metadata": {},
   "source": [
    "---------------------------------\n",
    "\n",
    "------------------------------------\n",
    "\n",
    "--------------------------"
   ]
  },
  {
   "cell_type": "markdown",
   "metadata": {},
   "source": [
    "# Instantiate a network, snap points to the nework, and calculate cost matrix"
   ]
  },
  {
   "cell_type": "markdown",
   "metadata": {},
   "source": [
    "### In this example we will use an emprical network and synthetic, randomly generated points"
   ]
  },
  {
   "cell_type": "markdown",
   "metadata": {},
   "source": [
    "### Streets as empirical data"
   ]
  },
  {
   "cell_type": "code",
   "execution_count": null,
   "metadata": {
    "ExecuteTime": {
     "end_time": "2019-05-14T00:34:03.451721Z",
     "start_time": "2019-05-14T00:34:03.185566Z"
    }
   },
   "outputs": [],
   "source": [
    "streets = gpd.read_file(examples.get_path('streets.shp'))\n",
    "streets.crs = {'init':'epsg:2223'}\n",
    "streets = streets.to_crs(epsg=2762)\n",
    "streets.head()"
   ]
  },
  {
   "cell_type": "code",
   "execution_count": null,
   "metadata": {
    "ExecuteTime": {
     "end_time": "2019-05-14T00:34:03.732865Z",
     "start_time": "2019-05-14T00:34:03.455066Z"
    }
   },
   "outputs": [],
   "source": [
    "add_to_plot = {'streets':streets}\n",
    "plotter(plot_aux=add_to_plot, title=title)"
   ]
  },
  {
   "cell_type": "markdown",
   "metadata": {},
   "source": [
    "## Generate synthetic, random \"houses\" near the network"
   ]
  },
  {
   "cell_type": "markdown",
   "metadata": {},
   "source": [
    "### Buffer streets"
   ]
  },
  {
   "cell_type": "code",
   "execution_count": null,
   "metadata": {
    "ExecuteTime": {
     "end_time": "2019-05-14T00:34:03.905142Z",
     "start_time": "2019-05-14T00:34:03.735713Z"
    }
   },
   "outputs": [],
   "source": [
    "buff = 50\n",
    "streets_buffer = get_buffer(streets, buff=buff)\n",
    "streets_buffer"
   ]
  },
  {
   "cell_type": "code",
   "execution_count": null,
   "metadata": {
    "ExecuteTime": {
     "end_time": "2019-05-14T00:34:04.254072Z",
     "start_time": "2019-05-14T00:34:03.911040Z"
    }
   },
   "outputs": [],
   "source": [
    "add_to_plot = {'streets':streets,\n",
    "               'buffer':streets_buffer}\n",
    "plotter(plot_aux=add_to_plot, buffered=buff, title=title)"
   ]
  },
  {
   "cell_type": "markdown",
   "metadata": {},
   "source": [
    "### Generate *n* synthetic client points and  *n* synthetic facility points"
   ]
  },
  {
   "cell_type": "code",
   "execution_count": null,
   "metadata": {
    "ExecuteTime": {
     "end_time": "2019-05-14T00:34:05.069036Z",
     "start_time": "2019-05-14T00:34:04.259317Z"
    }
   },
   "outputs": [],
   "source": [
    "clients = simulated_geo_points(streets_buffer,\n",
    "                               needed=client_count,\n",
    "                               seed=random_seeds['client'])\n",
    "facilities = simulated_geo_points(streets_buffer,\n",
    "                                  needed=facility_count,\n",
    "                                  seed=random_seeds['facility'])"
   ]
  },
  {
   "cell_type": "code",
   "execution_count": null,
   "metadata": {
    "ExecuteTime": {
     "end_time": "2019-05-14T00:34:05.079133Z",
     "start_time": "2019-05-14T00:34:05.071507Z"
    }
   },
   "outputs": [],
   "source": [
    "clients['dv'] = ['x[%s]' % c for c in range(client_count)]\n",
    "facilities['dv'] = ['y[%s]' % c for c in range(facility_count)]"
   ]
  },
  {
   "cell_type": "code",
   "execution_count": null,
   "metadata": {
    "ExecuteTime": {
     "end_time": "2019-05-14T00:34:05.721149Z",
     "start_time": "2019-05-14T00:34:05.082764Z"
    }
   },
   "outputs": [],
   "source": [
    "add_to_plot = {'streets':streets,\n",
    "               'buffer':streets_buffer,\n",
    "               'cli_tru': clients,\n",
    "               'fac_tru': facilities}\n",
    "plotter(plot_aux=add_to_plot, buffered=buff,\n",
    "        pt1_size=60)"
   ]
  },
  {
   "cell_type": "markdown",
   "metadata": {},
   "source": [
    "------------------------------------"
   ]
  },
  {
   "cell_type": "markdown",
   "metadata": {},
   "source": [
    "### Synthetic client demand (weights)"
   ]
  },
  {
   "cell_type": "code",
   "execution_count": null,
   "metadata": {
    "ExecuteTime": {
     "end_time": "2019-05-14T00:34:05.746526Z",
     "start_time": "2019-05-14T00:34:05.723968Z"
    }
   },
   "outputs": [],
   "source": [
    "np.random.seed(1991)\n",
    "clients['weights'] = np.random.randint(1, 8, (client_count,1))\n",
    "clients.head()"
   ]
  },
  {
   "cell_type": "markdown",
   "metadata": {},
   "source": [
    "### Create a network instance"
   ]
  },
  {
   "cell_type": "code",
   "execution_count": null,
   "metadata": {
    "ExecuteTime": {
     "end_time": "2019-05-14T00:34:05.848025Z",
     "start_time": "2019-05-14T00:34:05.750582Z"
    }
   },
   "outputs": [],
   "source": [
    "ntw = spgh.Network(in_data=streets)"
   ]
  },
  {
   "cell_type": "markdown",
   "metadata": {},
   "source": [
    "### Snap points to the network"
   ]
  },
  {
   "cell_type": "code",
   "execution_count": null,
   "metadata": {
    "ExecuteTime": {
     "end_time": "2019-05-14T00:34:06.117697Z",
     "start_time": "2019-05-14T00:34:05.851709Z"
    }
   },
   "outputs": [],
   "source": [
    "ntw.snapobservations(clients, 'clients', attribute=True)\n",
    "ntw.snapobservations(facilities, 'facilities', attribute=True)"
   ]
  },
  {
   "cell_type": "markdown",
   "metadata": {},
   "source": [
    "### `map` snapped coordinates the each dataframe"
   ]
  },
  {
   "cell_type": "code",
   "execution_count": null,
   "metadata": {
    "ExecuteTime": {
     "end_time": "2019-05-14T00:34:06.139927Z",
     "start_time": "2019-05-14T00:34:06.119358Z"
    }
   },
   "outputs": [],
   "source": [
    "clients = map_coords(clients, col_name='snapped_coords',\n",
    "                     coords=ntw.pointpatterns['clients'].snapped_coordinates)\n",
    "facilities = map_coords(facilities, col_name='snapped_coords',\n",
    "                        coords=ntw.pointpatterns['facilities'].snapped_coordinates)"
   ]
  },
  {
   "cell_type": "markdown",
   "metadata": {},
   "source": [
    "### Instaniate a `snapped` dataframe for each point set"
   ]
  },
  {
   "cell_type": "code",
   "execution_count": null,
   "metadata": {
    "ExecuteTime": {
     "end_time": "2019-05-14T00:34:06.157775Z",
     "start_time": "2019-05-14T00:34:06.141592Z"
    }
   },
   "outputs": [],
   "source": [
    "clients_snapped = snapped_df(clients, 'snapped_coords')\n",
    "facilities_snapped = snapped_df(facilities, 'snapped_coords')"
   ]
  },
  {
   "cell_type": "code",
   "execution_count": null,
   "metadata": {
    "ExecuteTime": {
     "end_time": "2019-05-14T00:34:06.747551Z",
     "start_time": "2019-05-14T00:34:06.161565Z"
    }
   },
   "outputs": [],
   "source": [
    "add_to_plot = {'streets':streets,\n",
    "               'buffer':streets_buffer,\n",
    "               'cli_tru': clients,\n",
    "               'fac_tru': facilities,\n",
    "               'cli_snp': clients_snapped,\n",
    "               'fac_snp': facilities_snapped,}\n",
    "plotter(plot_aux=add_to_plot, buffered=buff,\n",
    "        pt1_size=60, pt2_size=25)"
   ]
  },
  {
   "cell_type": "markdown",
   "metadata": {},
   "source": [
    "## Calculate distance matrix from all clients to all candidate facilities"
   ]
  },
  {
   "cell_type": "code",
   "execution_count": null,
   "metadata": {
    "ExecuteTime": {
     "end_time": "2019-05-14T00:34:07.061544Z",
     "start_time": "2019-05-14T00:34:06.749605Z"
    }
   },
   "outputs": [],
   "source": [
    "cost_matrix = ntw.allneighbordistances(sourcepattern=ntw.pointpatterns['clients'],\n",
    "                                       destpattern=ntw.pointpatterns['facilities'])\n",
    "cost_matrix[:3,:3]"
   ]
  },
  {
   "cell_type": "markdown",
   "metadata": {},
   "source": [
    "----------------------------"
   ]
  },
  {
   "cell_type": "markdown",
   "metadata": {},
   "source": [
    "# Optimal Facility Location"
   ]
  },
  {
   "cell_type": "markdown",
   "metadata": {},
   "source": [
    "## Location Set Covering Problem"
   ]
  },
  {
   "cell_type": "code",
   "execution_count": null,
   "metadata": {
    "ExecuteTime": {
     "end_time": "2019-05-14T00:34:07.243619Z",
     "start_time": "2019-05-14T00:34:07.064529Z"
    }
   },
   "outputs": [],
   "source": [
    "lscp = FacilityLocationModel('lscp', cij=cost_matrix, s=max_coverage)\n",
    "clients, facilities = add_results(lscp, clients, facilities)"
   ]
  },
  {
   "cell_type": "code",
   "execution_count": null,
   "metadata": {
    "ExecuteTime": {
     "end_time": "2019-05-14T00:34:09.754844Z",
     "start_time": "2019-05-14T00:34:07.246975Z"
    }
   },
   "outputs": [],
   "source": [
    "aux_to_plot = {'streets': streets, 'fac_tru': facilities}\n",
    "res_to_plot = {'cli_var': clients, 'fac_var': facilities}\n",
    "plotter(plot_aux=aux_to_plot, plot_res=res_to_plot,\n",
    "        pt1_size=300, pt2_size=60, model=lscp, title=title)"
   ]
  },
  {
   "cell_type": "markdown",
   "metadata": {},
   "source": [
    "## *p*-median Problem"
   ]
  },
  {
   "cell_type": "code",
   "execution_count": null,
   "metadata": {
    "ExecuteTime": {
     "end_time": "2019-05-14T00:34:10.619491Z",
     "start_time": "2019-05-14T00:34:09.756889Z"
    }
   },
   "outputs": [],
   "source": [
    "pmp = FacilityLocationModel('pmp', ai=clients[\"weights\"],\n",
    "                            cij=cost_matrix, p=p_facilities)\n",
    "clients, facilities = add_results(pmp, clients, facilities)"
   ]
  },
  {
   "cell_type": "code",
   "execution_count": null,
   "metadata": {
    "ExecuteTime": {
     "end_time": "2019-05-14T00:34:11.426548Z",
     "start_time": "2019-05-14T00:34:10.621572Z"
    }
   },
   "outputs": [],
   "source": [
    "aux_to_plot = {'streets': streets, 'fac_tru': facilities}\n",
    "res_to_plot = {'cli_var': clients, 'fac_var': facilities}\n",
    "plotter(plot_aux=aux_to_plot, plot_res=res_to_plot,\n",
    "        pt1_size=300, pt2_size=60, model=pmp, title=title)"
   ]
  },
  {
   "cell_type": "markdown",
   "metadata": {},
   "source": [
    "## *p*-center Problem"
   ]
  },
  {
   "cell_type": "code",
   "execution_count": null,
   "metadata": {
    "ExecuteTime": {
     "end_time": "2019-05-14T00:34:14.879976Z",
     "start_time": "2019-05-14T00:34:11.428740Z"
    }
   },
   "outputs": [],
   "source": [
    "pcp = FacilityLocationModel('pcp', cij=cost_matrix, p=p_facilities)\n",
    "clients, facilities = add_results(pcp, clients, facilities)"
   ]
  },
  {
   "cell_type": "code",
   "execution_count": null,
   "metadata": {
    "ExecuteTime": {
     "end_time": "2019-05-14T00:34:15.730274Z",
     "start_time": "2019-05-14T00:34:14.882350Z"
    }
   },
   "outputs": [],
   "source": [
    "aux_to_plot = {'streets': streets, 'fac_tru': facilities}\n",
    "res_to_plot = {'cli_var': clients, 'fac_var': facilities}\n",
    "plotter(plot_aux=aux_to_plot, plot_res=res_to_plot,\n",
    "        pt1_size=300, pt2_size=60, model=pcp, title=title)"
   ]
  },
  {
   "cell_type": "markdown",
   "metadata": {},
   "source": [
    "## Maximal Covering Location Problem"
   ]
  },
  {
   "cell_type": "code",
   "execution_count": null,
   "metadata": {
    "ExecuteTime": {
     "end_time": "2019-05-14T00:34:15.965154Z",
     "start_time": "2019-05-14T00:34:15.732399Z"
    }
   },
   "outputs": [],
   "source": [
    "mclp = FacilityLocationModel('mclp', ai=clients[\"weights\"],\n",
    "                             cij=cost_matrix, p=p_facilities,\n",
    "                             s=min_coverage)\n",
    "clients, facilities = add_results(mclp, clients, facilities)"
   ]
  },
  {
   "cell_type": "code",
   "execution_count": null,
   "metadata": {
    "ExecuteTime": {
     "end_time": "2019-05-14T00:34:16.864685Z",
     "start_time": "2019-05-14T00:34:15.967420Z"
    }
   },
   "outputs": [],
   "source": [
    "aux_to_plot = {'streets': streets, 'cli_tru': clients, 'fac_tru': facilities}\n",
    "res_to_plot = {'cli_var': clients, 'fac_var': facilities}\n",
    "plotter(plot_aux=aux_to_plot, plot_res=res_to_plot,\n",
    "        pt1_size=300, pt2_size=60, model=mclp, title=title)"
   ]
  },
  {
   "cell_type": "markdown",
   "metadata": {},
   "source": [
    "-----------------------------------\n",
    "-----------------------------------------\n",
    "----------------------------"
   ]
  },
  {
   "cell_type": "markdown",
   "metadata": {},
   "source": [
    "### Solved models objects"
   ]
  },
  {
   "cell_type": "code",
   "execution_count": null,
   "metadata": {
    "ExecuteTime": {
     "end_time": "2019-05-14T00:34:16.872327Z",
     "start_time": "2019-05-14T00:34:16.866726Z"
    }
   },
   "outputs": [],
   "source": [
    "models = [lscp, pmp, pcp, mclp]"
   ]
  },
  {
   "cell_type": "markdown",
   "metadata": {},
   "source": [
    "### Distance analytics matrix"
   ]
  },
  {
   "cell_type": "code",
   "execution_count": null,
   "metadata": {
    "ExecuteTime": {
     "end_time": "2019-05-14T00:34:17.195256Z",
     "start_time": "2019-05-14T00:34:16.875594Z"
    }
   },
   "outputs": [],
   "source": [
    "analytics_df, analytics_display = analytics_matrix(models)\n",
    "analytics_display"
   ]
  },
  {
   "cell_type": "markdown",
   "metadata": {},
   "source": [
    "#### While it appears the `mclp` performs most optimally with the least distance per stastistic, we have to remember that the `mclp` is leaving {{mclp.n_cli_uncov}} clients uncovered. Therefore, it may generally give lower maximum and average travel costs due to the uncovered client travel costs being excluded."
   ]
  },
  {
   "cell_type": "markdown",
   "metadata": {},
   "source": [
    "### Selection matrix"
   ]
  },
  {
   "cell_type": "code",
   "execution_count": null,
   "metadata": {
    "ExecuteTime": {
     "end_time": "2019-05-14T00:34:17.385159Z",
     "start_time": "2019-05-14T00:34:17.238619Z"
    }
   },
   "outputs": [],
   "source": [
    "selection_df, selection_display = selection_matrix(models)\n",
    "selection_display"
   ]
  },
  {
   "cell_type": "markdown",
   "metadata": {},
   "source": [
    "### All solutions spatial comparision"
   ]
  },
  {
   "cell_type": "code",
   "execution_count": null,
   "metadata": {
    "ExecuteTime": {
     "end_time": "2019-05-14T00:34:23.018981Z",
     "start_time": "2019-05-14T00:34:17.388919Z"
    }
   },
   "outputs": [],
   "source": [
    "# facility variable-to-times selected lookup\n",
    "fac2selectcount = dict(selection_df['$\\sum$'].astype(int))\n",
    "aux_to_plot = {'streets': streets, 'cli_tru': clients}\n",
    "res_to_plot = {'cli_var': clients, 'fac_var': facilities}\n",
    "multi_plotter(models, plot_aux=aux_to_plot, title=title,\n",
    "              plot_res=res_to_plot, select=fac2selectcount)"
   ]
  },
  {
   "cell_type": "markdown",
   "metadata": {},
   "source": [
    "---------------------"
   ]
  },
  {
   "cell_type": "markdown",
   "metadata": {},
   "source": [
    "$\\Longrightarrow$ Results may vary due to the random seed being set on local machines $\\Longleftarrow$\n",
    "\n",
    "$\\Longrightarrow$ Manually run the following cell to expose variables $\\Longleftarrow$"
   ]
  },
  {
   "cell_type": "markdown",
   "metadata": {},
   "source": [
    "# Dr. Minimax recommendation:\n",
    "\n",
    "* The `{{pcp.name}}` model facility configuration: `{{list(pcp.fac2cli.keys()).__str__().replace(\"'\", '')}}` \n",
    "\n",
    "\n",
    "* This configuration results in an absolute maximum distance from any household to its assigned Little Free Library of `{{analytics_df.loc[(analytics_df['stats'] == 'abs_max'), 'pcp'].squeeze()}}` meters, which is slightly more than the `{{max_coverage}}` meter maximum distance stipulation put forth by the committee. Dr. Minimax believes this to be the most equitable and feasible solution for the residents of Neighbor X. However..., the Neighborhood X Planning Committee turned out to be corrupt and merely chose locations for the Little Free Libraries nearest to their respective houses...."
   ]
  },
  {
   "cell_type": "markdown",
   "metadata": {},
   "source": [
    "----------------------\n",
    "\n",
    "\n",
    "# Which model do you think would suit the community's needs best?"
   ]
  },
  {
   "cell_type": "markdown",
   "metadata": {},
   "source": [
    "--------------------------"
   ]
  }
 ],
 "metadata": {
  "_draft": {
   "nbviewer_url": "https://gist.github.com/a671d31a796e06d9df669d018d5b66ba"
  },
  "gist": {
   "data": {
    "description": "spaghetti/notebooks/Facility_Location.ipynb",
    "public": true
   },
   "id": "a671d31a796e06d9df669d018d5b66ba"
  },
  "kernelspec": {
   "display_name": "Python [conda env:py3_spgh_dev]",
   "language": "python",
   "name": "conda-env-py3_spgh_dev-py"
  },
  "language_info": {
   "codemirror_mode": {
    "name": "ipython",
    "version": 3
   },
   "file_extension": ".py",
   "mimetype": "text/x-python",
   "name": "python",
   "nbconvert_exporter": "python",
   "pygments_lexer": "ipython3",
   "version": "3.6.7"
  }
 },
 "nbformat": 4,
 "nbformat_minor": 2
}
