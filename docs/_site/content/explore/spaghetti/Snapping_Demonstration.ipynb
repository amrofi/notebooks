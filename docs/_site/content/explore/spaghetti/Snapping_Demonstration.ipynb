{
 "cells": [
  {
   "cell_type": "markdown",
   "metadata": {},
   "source": [
    "--------------------------"
   ]
  },
  {
   "cell_type": "markdown",
   "metadata": {},
   "source": [
    "# Snapping point to segments"
   ]
  },
  {
   "cell_type": "code",
   "execution_count": null,
   "metadata": {
    "ExecuteTime": {
     "end_time": "2019-05-14T00:04:53.709443Z",
     "start_time": "2019-05-14T00:04:53.682054Z"
    }
   },
   "outputs": [],
   "source": [
    "import os\n",
    "last_modified = None\n",
    "if os.name == \"posix\":\n",
    "    last_modified = !stat -f\\\n",
    "                    \"# This notebook was last updated: %Sm\"\\\n",
    "                     Snapping_Demonstration.ipynb\n",
    "elif os.name == \"nt\":\n",
    "    last_modified = !for %a in (Snapping_Demonstration.ipynb)\\\n",
    "                    do echo # This notebook was last updated: %~ta\n",
    "    \n",
    "if last_modified:\n",
    "    get_ipython().set_next_input(last_modified[-1])"
   ]
  },
  {
   "cell_type": "code",
   "execution_count": null,
   "metadata": {},
   "outputs": [],
   "source": [
    "# This notebook was last updated: May 13 20:04:46 2019"
   ]
  },
  {
   "cell_type": "markdown",
   "metadata": {},
   "source": [
    "-------------------------------"
   ]
  },
  {
   "cell_type": "code",
   "execution_count": null,
   "metadata": {
    "ExecuteTime": {
     "end_time": "2019-05-14T00:04:54.742736Z",
     "start_time": "2019-05-14T00:04:53.725119Z"
    }
   },
   "outputs": [],
   "source": [
    "import numpy as np\n",
    "from pysal.lib import examples\n",
    "import geopandas as gpd\n",
    "from pysal.explore import spaghetti as spgh\n",
    "from shapely.geometry import Point\n",
    "\n",
    "%matplotlib inline\n",
    "\n",
    "__author__ = 'James Gaboardi <jgaboardi@gmail.com>'"
   ]
  },
  {
   "cell_type": "markdown",
   "metadata": {},
   "source": [
    "-----------------------------------------"
   ]
  },
  {
   "cell_type": "markdown",
   "metadata": {},
   "source": [
    "## Segments"
   ]
  },
  {
   "cell_type": "code",
   "execution_count": null,
   "metadata": {
    "ExecuteTime": {
     "end_time": "2019-05-14T00:04:54.955015Z",
     "start_time": "2019-05-14T00:04:54.745489Z"
    }
   },
   "outputs": [],
   "source": [
    "streets = examples.get_path(\"streets.shp\")\n",
    "streets = gpd.read_file(streets)"
   ]
  },
  {
   "cell_type": "markdown",
   "metadata": {},
   "source": [
    "## Points"
   ]
  },
  {
   "cell_type": "code",
   "execution_count": null,
   "metadata": {
    "ExecuteTime": {
     "end_time": "2019-05-14T00:04:54.990376Z",
     "start_time": "2019-05-14T00:04:54.956452Z"
    }
   },
   "outputs": [],
   "source": [
    "crimes = examples.get_path(\"crimes.shp\")\n",
    "crimes = gpd.read_file(crimes)\n",
    "np.random.seed(1)\n",
    "crimes['geometry'] = np.random.permutation(crimes['geometry'])"
   ]
  },
  {
   "cell_type": "markdown",
   "metadata": {},
   "source": [
    "## Initial plot"
   ]
  },
  {
   "cell_type": "code",
   "execution_count": null,
   "metadata": {
    "ExecuteTime": {
     "end_time": "2019-05-14T00:04:55.559752Z",
     "start_time": "2019-05-14T00:04:54.997329Z"
    }
   },
   "outputs": [],
   "source": [
    "base = streets.plot(figsize=(10,10), color='k', alpha=.35, linewidth=3)\n",
    "crimes.plot(ax=base, cmap='tab20', markersize=75)"
   ]
  },
  {
   "cell_type": "markdown",
   "metadata": {},
   "source": [
    "# Network"
   ]
  },
  {
   "cell_type": "code",
   "execution_count": null,
   "metadata": {
    "ExecuteTime": {
     "end_time": "2019-05-14T00:04:55.674706Z",
     "start_time": "2019-05-14T00:04:55.569326Z"
    }
   },
   "outputs": [],
   "source": [
    "net = spgh.Network(in_data=streets)"
   ]
  },
  {
   "cell_type": "markdown",
   "metadata": {},
   "source": [
    "## Snap point onto nearest segments"
   ]
  },
  {
   "cell_type": "code",
   "execution_count": null,
   "metadata": {
    "ExecuteTime": {
     "end_time": "2019-05-14T00:04:55.872676Z",
     "start_time": "2019-05-14T00:04:55.676102Z"
    }
   },
   "outputs": [],
   "source": [
    "net.snapobservations(crimes, 'crimes')"
   ]
  },
  {
   "cell_type": "markdown",
   "metadata": {},
   "source": [
    "## Create `geopandas.GeoDataFrame` objects of snapped points"
   ]
  },
  {
   "cell_type": "code",
   "execution_count": null,
   "metadata": {
    "ExecuteTime": {
     "end_time": "2019-05-14T00:04:55.893297Z",
     "start_time": "2019-05-14T00:04:55.874732Z"
    }
   },
   "outputs": [],
   "source": [
    "snapped_gdf = spgh.element_as_gdf(net, pp_name='crimes', snapped=True)"
   ]
  },
  {
   "cell_type": "markdown",
   "metadata": {},
   "source": [
    "## Original point coordinates, snapped point coordinates"
   ]
  },
  {
   "cell_type": "code",
   "execution_count": null,
   "metadata": {
    "ExecuteTime": {
     "end_time": "2019-05-14T00:04:55.906816Z",
     "start_time": "2019-05-14T00:04:55.899551Z"
    }
   },
   "outputs": [],
   "source": [
    "original = net.pointpatterns['crimes'].points\n",
    "print(original[0]['coordinates'], snapped_gdf.geometry[0].coords[:])"
   ]
  },
  {
   "cell_type": "markdown",
   "metadata": {},
   "source": [
    "## Snapped points plot"
   ]
  },
  {
   "cell_type": "code",
   "execution_count": null,
   "metadata": {
    "ExecuteTime": {
     "end_time": "2019-05-14T00:04:56.242879Z",
     "start_time": "2019-05-14T00:04:55.915159Z"
    }
   },
   "outputs": [],
   "source": [
    "base = streets.plot(figsize=(10,10), color='k', alpha=.35, linewidth=3)\n",
    "crimes.plot(ax=base, cmap='tab20', markersize=75)\n",
    "snapped_gdf.plot(ax=base, cmap='tab20', markersize=30)"
   ]
  },
  {
   "cell_type": "markdown",
   "metadata": {},
   "source": [
    "---------------------------------------------"
   ]
  }
 ],
 "metadata": {
  "_draft": {
   "nbviewer_url": "https://gist.github.com/0d9ea5c966a4ad57123bef35b87c4607"
  },
  "gist": {
   "data": {
    "description": "spaghetti/notebooks/Snapping_Demonstration.ipynb",
    "public": true
   },
   "id": "0d9ea5c966a4ad57123bef35b87c4607"
  },
  "kernelspec": {
   "display_name": "Python [conda env:py3_spgh_dev]",
   "language": "python",
   "name": "conda-env-py3_spgh_dev-py"
  },
  "language_info": {
   "codemirror_mode": {
    "name": "ipython",
    "version": 3
   },
   "file_extension": ".py",
   "mimetype": "text/x-python",
   "name": "python",
   "nbconvert_exporter": "python",
   "pygments_lexer": "ipython3",
   "version": "3.6.7"
  }
 },
 "nbformat": 4,
 "nbformat_minor": 1
}
