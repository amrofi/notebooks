{
 "cells": [
  {
   "cell_type": "markdown",
   "metadata": {},
   "source": [
    "# Check `GDS` stack\n",
    "\n",
    "This notebook checks all software requirements for the Open-Source Spatial Statistics workshop at AAG 2018. \n",
    "\n",
    "A successful run of the notebook implies no errors returned in any cell *and* every cell beyond the first one returning a printout of `True`. This ensures a correct environment installed."
   ]
  },
  {
   "cell_type": "markdown",
   "metadata": {},
   "source": [
    "---"
   ]
  },
  {
   "cell_type": "code",
   "execution_count": 1,
   "metadata": {},
   "outputs": [
    {
     "data": {
      "text/plain": [
       "True"
      ]
     },
     "execution_count": 1,
     "metadata": {},
     "output_type": "execute_result"
    }
   ],
   "source": [
    "import bokeh as bk\n",
    "float(bk.__version__[:4]) >= 0.12"
   ]
  },
  {
   "cell_type": "code",
   "execution_count": 2,
   "metadata": {},
   "outputs": [
    {
     "data": {
      "text/plain": [
       "True"
      ]
     },
     "execution_count": 2,
     "metadata": {},
     "output_type": "execute_result"
    }
   ],
   "source": [
    "import dask\n",
    "float(dask.__version__[:4]) >= 0.17"
   ]
  },
  {
   "cell_type": "code",
   "execution_count": 3,
   "metadata": {},
   "outputs": [
    {
     "data": {
      "text/plain": [
       "True"
      ]
     },
     "execution_count": 3,
     "metadata": {},
     "output_type": "execute_result"
    }
   ],
   "source": [
    "import geopandas as gpd\n",
    "float(gpd.__version__[:3]) >= 0.2"
   ]
  },
  {
   "cell_type": "code",
   "execution_count": 4,
   "metadata": {},
   "outputs": [
    {
     "data": {
      "text/plain": [
       "True"
      ]
     },
     "execution_count": 4,
     "metadata": {},
     "output_type": "execute_result"
    }
   ],
   "source": [
    "import matplotlib as mpl\n",
    "float(mpl.__version__[:3]) >= 1.5"
   ]
  },
  {
   "cell_type": "code",
   "execution_count": 5,
   "metadata": {},
   "outputs": [
    {
     "data": {
      "text/plain": [
       "True"
      ]
     },
     "execution_count": 5,
     "metadata": {},
     "output_type": "execute_result"
    }
   ],
   "source": [
    "import networkx as nx\n",
    "float(mpl.__version__[:3]) >= 2.1"
   ]
  },
  {
   "cell_type": "code",
   "execution_count": 6,
   "metadata": {},
   "outputs": [
    {
     "data": {
      "text/plain": [
       "True"
      ]
     },
     "execution_count": 6,
     "metadata": {},
     "output_type": "execute_result"
    }
   ],
   "source": [
    "import seaborn as sns\n",
    "float(sns.__version__[:3]) >= 0.8"
   ]
  },
  {
   "cell_type": "code",
   "execution_count": 7,
   "metadata": {},
   "outputs": [
    {
     "data": {
      "text/plain": [
       "True"
      ]
     },
     "execution_count": 7,
     "metadata": {},
     "output_type": "execute_result"
    }
   ],
   "source": [
    "import pandas as pd\n",
    "float(pd.__version__[:4]) >= 0.18"
   ]
  },
  {
   "cell_type": "code",
   "execution_count": 8,
   "metadata": {},
   "outputs": [
    {
     "name": "stderr",
     "output_type": "stream",
     "text": [
      "/Users/hu/anaconda3/envs/gds/lib/python3.6/site-packages/h5py/__init__.py:36: FutureWarning: Conversion of the second argument of issubdtype from `float` to `np.floating` is deprecated. In future, it will be treated as `np.float64 == np.dtype(float).type`.\n",
      "  from ._conv import register_converters as _register_converters\n"
     ]
    },
    {
     "data": {
      "text/plain": [
       "True"
      ]
     },
     "execution_count": 8,
     "metadata": {},
     "output_type": "execute_result"
    }
   ],
   "source": [
    "import pymc3 as pm\n",
    "float(pm.__version__[:3]) >= 3.3"
   ]
  },
  {
   "cell_type": "code",
   "execution_count": 9,
   "metadata": {
    "scrolled": true
   },
   "outputs": [
    {
     "data": {
      "text/plain": [
       "True"
      ]
     },
     "execution_count": 9,
     "metadata": {},
     "output_type": "execute_result"
    }
   ],
   "source": [
    "import pysal as ps\n",
    "float(ps.version[:4]) >= 1.14"
   ]
  },
  {
   "cell_type": "code",
   "execution_count": 10,
   "metadata": {},
   "outputs": [
    {
     "data": {
      "text/plain": [
       "True"
      ]
     },
     "execution_count": 10,
     "metadata": {},
     "output_type": "execute_result"
    }
   ],
   "source": [
    "import pystan\n",
    "float(pystan.__version__[:4]) >= 2.17"
   ]
  },
  {
   "cell_type": "code",
   "execution_count": 11,
   "metadata": {},
   "outputs": [
    {
     "data": {
      "text/plain": [
       "True"
      ]
     },
     "execution_count": 11,
     "metadata": {},
     "output_type": "execute_result"
    }
   ],
   "source": [
    "import rasterio as rio\n",
    "float(ps.version[:4]) >= 0.36"
   ]
  },
  {
   "cell_type": "code",
   "execution_count": 12,
   "metadata": {},
   "outputs": [
    {
     "data": {
      "text/plain": [
       "True"
      ]
     },
     "execution_count": 12,
     "metadata": {},
     "output_type": "execute_result"
    }
   ],
   "source": [
    "import sklearn\n",
    "float(sklearn.__version__[:4]) >= 0.19"
   ]
  },
  {
   "cell_type": "code",
   "execution_count": 13,
   "metadata": {},
   "outputs": [
    {
     "name": "stderr",
     "output_type": "stream",
     "text": [
      "/Users/hu/anaconda3/envs/gds/lib/python3.6/site-packages/statsmodels/compat/pandas.py:56: FutureWarning: The pandas.core.datetools module is deprecated and will be removed in a future version. Please use the pandas.tseries module instead.\n",
      "  from pandas.core import datetools\n"
     ]
    },
    {
     "data": {
      "text/plain": [
       "True"
      ]
     },
     "execution_count": 13,
     "metadata": {},
     "output_type": "execute_result"
    }
   ],
   "source": [
    "import statsmodels.api as sm\n",
    "float(sm.version.version[:3]) >= 0.8"
   ]
  },
  {
   "cell_type": "code",
   "execution_count": 14,
   "metadata": {},
   "outputs": [],
   "source": [
    "import xlrd"
   ]
  },
  {
   "cell_type": "code",
   "execution_count": 15,
   "metadata": {},
   "outputs": [],
   "source": [
    "import xlsxwriter"
   ]
  },
  {
   "cell_type": "markdown",
   "metadata": {},
   "source": [
    "# Test"
   ]
  },
  {
   "cell_type": "code",
   "execution_count": 16,
   "metadata": {},
   "outputs": [
    {
     "data": {
      "text/html": [
       "<div>\n",
       "<style scoped>\n",
       "    .dataframe tbody tr th:only-of-type {\n",
       "        vertical-align: middle;\n",
       "    }\n",
       "\n",
       "    .dataframe tbody tr th {\n",
       "        vertical-align: top;\n",
       "    }\n",
       "\n",
       "    .dataframe thead th {\n",
       "        text-align: right;\n",
       "    }\n",
       "</style>\n",
       "<table border=\"1\" class=\"dataframe\">\n",
       "  <thead>\n",
       "    <tr style=\"text-align: right;\">\n",
       "      <th></th>\n",
       "      <th>AREA</th>\n",
       "      <th>PERIMETER</th>\n",
       "      <th>COLUMBUS_</th>\n",
       "      <th>COLUMBUS_I</th>\n",
       "      <th>POLYID</th>\n",
       "      <th>NEIG</th>\n",
       "      <th>HOVAL</th>\n",
       "      <th>INC</th>\n",
       "      <th>CRIME</th>\n",
       "      <th>OPEN</th>\n",
       "      <th>...</th>\n",
       "      <th>DISCBD</th>\n",
       "      <th>X</th>\n",
       "      <th>Y</th>\n",
       "      <th>NSA</th>\n",
       "      <th>NSB</th>\n",
       "      <th>EW</th>\n",
       "      <th>CP</th>\n",
       "      <th>THOUS</th>\n",
       "      <th>NEIGNO</th>\n",
       "      <th>geometry</th>\n",
       "    </tr>\n",
       "  </thead>\n",
       "  <tbody>\n",
       "    <tr>\n",
       "      <th>0</th>\n",
       "      <td>0.309441</td>\n",
       "      <td>2.440629</td>\n",
       "      <td>2</td>\n",
       "      <td>5</td>\n",
       "      <td>1</td>\n",
       "      <td>5</td>\n",
       "      <td>80.467003</td>\n",
       "      <td>19.531</td>\n",
       "      <td>15.725980</td>\n",
       "      <td>2.850747</td>\n",
       "      <td>...</td>\n",
       "      <td>5.03</td>\n",
       "      <td>38.799999</td>\n",
       "      <td>44.070000</td>\n",
       "      <td>1.0</td>\n",
       "      <td>1.0</td>\n",
       "      <td>1.0</td>\n",
       "      <td>0.0</td>\n",
       "      <td>1000.0</td>\n",
       "      <td>1005.0</td>\n",
       "      <td>POLYGON ((8.624129295349121 14.23698043823242,...</td>\n",
       "    </tr>\n",
       "    <tr>\n",
       "      <th>1</th>\n",
       "      <td>0.259329</td>\n",
       "      <td>2.236939</td>\n",
       "      <td>3</td>\n",
       "      <td>1</td>\n",
       "      <td>2</td>\n",
       "      <td>1</td>\n",
       "      <td>44.567001</td>\n",
       "      <td>21.232</td>\n",
       "      <td>18.801754</td>\n",
       "      <td>5.296720</td>\n",
       "      <td>...</td>\n",
       "      <td>4.27</td>\n",
       "      <td>35.619999</td>\n",
       "      <td>42.380001</td>\n",
       "      <td>1.0</td>\n",
       "      <td>1.0</td>\n",
       "      <td>0.0</td>\n",
       "      <td>0.0</td>\n",
       "      <td>1000.0</td>\n",
       "      <td>1001.0</td>\n",
       "      <td>POLYGON ((8.252790451049805 14.23694038391113,...</td>\n",
       "    </tr>\n",
       "    <tr>\n",
       "      <th>2</th>\n",
       "      <td>0.192468</td>\n",
       "      <td>2.187547</td>\n",
       "      <td>4</td>\n",
       "      <td>6</td>\n",
       "      <td>3</td>\n",
       "      <td>6</td>\n",
       "      <td>26.350000</td>\n",
       "      <td>15.956</td>\n",
       "      <td>30.626781</td>\n",
       "      <td>4.534649</td>\n",
       "      <td>...</td>\n",
       "      <td>3.89</td>\n",
       "      <td>39.820000</td>\n",
       "      <td>41.180000</td>\n",
       "      <td>1.0</td>\n",
       "      <td>1.0</td>\n",
       "      <td>1.0</td>\n",
       "      <td>0.0</td>\n",
       "      <td>1000.0</td>\n",
       "      <td>1006.0</td>\n",
       "      <td>POLYGON ((8.653305053710938 14.00809001922607,...</td>\n",
       "    </tr>\n",
       "    <tr>\n",
       "      <th>3</th>\n",
       "      <td>0.083841</td>\n",
       "      <td>1.427635</td>\n",
       "      <td>5</td>\n",
       "      <td>2</td>\n",
       "      <td>4</td>\n",
       "      <td>2</td>\n",
       "      <td>33.200001</td>\n",
       "      <td>4.477</td>\n",
       "      <td>32.387760</td>\n",
       "      <td>0.394427</td>\n",
       "      <td>...</td>\n",
       "      <td>3.70</td>\n",
       "      <td>36.500000</td>\n",
       "      <td>40.520000</td>\n",
       "      <td>1.0</td>\n",
       "      <td>1.0</td>\n",
       "      <td>0.0</td>\n",
       "      <td>0.0</td>\n",
       "      <td>1000.0</td>\n",
       "      <td>1002.0</td>\n",
       "      <td>POLYGON ((8.459499359130859 13.82034969329834,...</td>\n",
       "    </tr>\n",
       "    <tr>\n",
       "      <th>4</th>\n",
       "      <td>0.488888</td>\n",
       "      <td>2.997133</td>\n",
       "      <td>6</td>\n",
       "      <td>7</td>\n",
       "      <td>5</td>\n",
       "      <td>7</td>\n",
       "      <td>23.225000</td>\n",
       "      <td>11.252</td>\n",
       "      <td>50.731510</td>\n",
       "      <td>0.405664</td>\n",
       "      <td>...</td>\n",
       "      <td>2.83</td>\n",
       "      <td>40.009998</td>\n",
       "      <td>38.000000</td>\n",
       "      <td>1.0</td>\n",
       "      <td>1.0</td>\n",
       "      <td>1.0</td>\n",
       "      <td>0.0</td>\n",
       "      <td>1000.0</td>\n",
       "      <td>1007.0</td>\n",
       "      <td>POLYGON ((8.685274124145508 13.63951969146729,...</td>\n",
       "    </tr>\n",
       "  </tbody>\n",
       "</table>\n",
       "<p>5 rows × 21 columns</p>\n",
       "</div>"
      ],
      "text/plain": [
       "       AREA  PERIMETER  COLUMBUS_  COLUMBUS_I  POLYID  NEIG      HOVAL  \\\n",
       "0  0.309441   2.440629          2           5       1     5  80.467003   \n",
       "1  0.259329   2.236939          3           1       2     1  44.567001   \n",
       "2  0.192468   2.187547          4           6       3     6  26.350000   \n",
       "3  0.083841   1.427635          5           2       4     2  33.200001   \n",
       "4  0.488888   2.997133          6           7       5     7  23.225000   \n",
       "\n",
       "      INC      CRIME      OPEN  \\\n",
       "0  19.531  15.725980  2.850747   \n",
       "1  21.232  18.801754  5.296720   \n",
       "2  15.956  30.626781  4.534649   \n",
       "3   4.477  32.387760  0.394427   \n",
       "4  11.252  50.731510  0.405664   \n",
       "\n",
       "                         ...                          DISCBD          X  \\\n",
       "0                        ...                            5.03  38.799999   \n",
       "1                        ...                            4.27  35.619999   \n",
       "2                        ...                            3.89  39.820000   \n",
       "3                        ...                            3.70  36.500000   \n",
       "4                        ...                            2.83  40.009998   \n",
       "\n",
       "           Y  NSA  NSB   EW   CP   THOUS  NEIGNO  \\\n",
       "0  44.070000  1.0  1.0  1.0  0.0  1000.0  1005.0   \n",
       "1  42.380001  1.0  1.0  0.0  0.0  1000.0  1001.0   \n",
       "2  41.180000  1.0  1.0  1.0  0.0  1000.0  1006.0   \n",
       "3  40.520000  1.0  1.0  0.0  0.0  1000.0  1002.0   \n",
       "4  38.000000  1.0  1.0  1.0  0.0  1000.0  1007.0   \n",
       "\n",
       "                                            geometry  \n",
       "0  POLYGON ((8.624129295349121 14.23698043823242,...  \n",
       "1  POLYGON ((8.252790451049805 14.23694038391113,...  \n",
       "2  POLYGON ((8.653305053710938 14.00809001922607,...  \n",
       "3  POLYGON ((8.459499359130859 13.82034969329834,...  \n",
       "4  POLYGON ((8.685274124145508 13.63951969146729,...  \n",
       "\n",
       "[5 rows x 21 columns]"
      ]
     },
     "execution_count": 16,
     "metadata": {},
     "output_type": "execute_result"
    }
   ],
   "source": [
    "shp = ps.examples.get_path('columbus.shp')\n",
    "db = gpd.read_file(shp)\n",
    "db.head()"
   ]
  },
  {
   "cell_type": "code",
   "execution_count": 17,
   "metadata": {},
   "outputs": [],
   "source": [
    "db[['HOVAL', 'INC']].to_feather('db_test.feather')\n",
    "_ = pd.read_feather('db_test.feather')"
   ]
  },
  {
   "cell_type": "code",
   "execution_count": 18,
   "metadata": {},
   "outputs": [
    {
     "data": {
      "image/png": "[encoded data removed]",
      "text/plain": [
       "<Figure size 432x288 with 1 Axes>"
      ]
     },
     "metadata": {},
     "output_type": "display_data"
    }
   ],
   "source": [
    "import matplotlib.pyplot as plt\n",
    "%matplotlib inline\n",
    "f, ax = plt.subplots(1)\n",
    "db.plot(facecolor='red', edgecolor='yellow', ax=ax)\n",
    "ax.set_axis_off()\n",
    "plt.show()"
   ]
  },
  {
   "cell_type": "code",
   "execution_count": 19,
   "metadata": {},
   "outputs": [],
   "source": [
    "db.crs['init'] = 'epsg:26918'"
   ]
  },
  {
   "cell_type": "code",
   "execution_count": 20,
   "metadata": {},
   "outputs": [
    {
     "data": {
      "image/png": "[encoded data removed]",
      "text/plain": [
       "<Figure size 432x288 with 1 Axes>"
      ]
     },
     "metadata": {},
     "output_type": "display_data"
    }
   ],
   "source": [
    "db_wgs84 = db.to_crs(epsg=4326)\n",
    "db_wgs84.plot()\n",
    "plt.show()"
   ]
  },
  {
   "cell_type": "code",
   "execution_count": 21,
   "metadata": {
    "scrolled": true
   },
   "outputs": [
    {
     "data": {
      "image/png": "[encoded data removed]",
      "text/plain": [
       "<Figure size 432x288 with 1 Axes>"
      ]
     },
     "metadata": {},
     "output_type": "display_data"
    }
   ],
   "source": [
    "db.plot(column='INC', scheme='fisher_jenks', cmap=plt.matplotlib.cm.Blues)\n",
    "plt.show()"
   ]
  },
  {
   "cell_type": "code",
   "execution_count": 22,
   "metadata": {},
   "outputs": [
    {
     "data": {
      "image/png": "[encoded data removed]",
      "text/plain": [
       "<Figure size 432x432 with 1 Axes>"
      ]
     },
     "metadata": {},
     "output_type": "display_data"
    }
   ],
   "source": [
    "import numpy as np\n",
    "import contextily as ctx\n",
    "tl = ctx.tile_providers.ST_TONER_LITE\n",
    "\n",
    "db = gpd.read_file(ps.examples.get_path('us48.shp'))\n",
    "db.crs = {'init': 'epsg:4326'}\n",
    "w, s, e, n = db.to_crs(epsg=3857).unary_union.bounds\n",
    "dbp = db.to_crs(epsg=3857)\n",
    "# Download raster\n",
    "_ = ctx.bounds2raster(w, s, e, n, 4, 'us.tif', url=tl)\n",
    "# Load up and plot\n",
    "source = rio.open('us.tif', 'r')\n",
    "red = source.read(1)\n",
    "green = source.read(2)\n",
    "blue = source.read(3)\n",
    "pix = np.dstack((red, green, blue))\n",
    "bounds = (source.bounds.left, source.bounds.right, \\\n",
    "          source.bounds.bottom, source.bounds.top)\n",
    "f = plt.figure(figsize=(6, 6))\n",
    "ax = plt.imshow(pix, extent=bounds)"
   ]
  }
 ],
 "metadata": {
  "kernelspec": {
   "display_name": "Python 3",
   "language": "python",
   "name": "python3"
  },
  "language_info": {
   "codemirror_mode": {
    "name": "ipython",
    "version": 3
   },
   "file_extension": ".py",
   "mimetype": "text/x-python",
   "name": "python",
   "nbconvert_exporter": "python",
   "pygments_lexer": "ipython3",
   "version": "3.6.5"
  }
 },
 "nbformat": 4,
 "nbformat_minor": 2
}
