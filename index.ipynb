{
 "cells": [
  {
   "cell_type": "markdown",
   "metadata": {},
   "source": [
    "# PySAL Notebooks Project\n",
    "\n",
    "This is the main repository for the `PySAL` notebooks project.\n",
    "\n",
    "The repository to build this Jupyter Book is hosted at:\n",
    "\n",
    "> [https://github.com/darribas/notebooks](https://github.com/darribas/notebooks)\n",
    "\n",
    "More information on `PySAL` is available at:\n",
    "\n",
    "> [http://pysal.org/](http://pysal.org/)"
   ]
  }
 ],
 "metadata": {
  "kernelspec": {
   "display_name": "Python 3",
   "language": "python",
   "name": "python3"
  },
  "language_info": {
   "codemirror_mode": {
    "name": "ipython",
    "version": 3
   },
   "file_extension": ".py",
   "mimetype": "text/x-python",
   "name": "python",
   "nbconvert_exporter": "python",
   "pygments_lexer": "ipython3",
   "version": "3.6.6"
  }
 },
 "nbformat": 4,
 "nbformat_minor": 2
}
